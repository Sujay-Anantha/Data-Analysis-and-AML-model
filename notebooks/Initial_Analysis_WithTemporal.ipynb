{
 "cells": [
  {
   "cell_type": "markdown",
   "id": "588d75af",
   "metadata": {},
   "source": [
    "## Import Required Libraries"
   ]
  },
  {
   "cell_type": "code",
   "execution_count": 1,
   "id": "9503d366",
   "metadata": {},
   "outputs": [],
   "source": [
    "import pyspark.sql.functions as F\n",
    "from pyspark.sql import SparkSession\n",
    "from pyspark.ml.feature import StringIndexer\n",
    "from pyspark.ml.stat import Correlation\n",
    "from pyspark.ml import Pipeline\n",
    "from pyspark.sql.functions import *\n",
    "from pyspark.sql.functions import col, avg, count, corr, month, year, to_timestamp\n",
    "import pandas as pd\n",
    "import matplotlib.pyplot as plt\n",
    "from pyspark.sql.window import Window\n",
    "from pyspark.sql.types import StructType, StructField, TimestampType, StringType, DoubleType, IntegerType"
   ]
  },
  {
   "cell_type": "markdown",
   "id": "40c6b7f1",
   "metadata": {},
   "source": [
    "## Define Schema and Import Data From Dataset"
   ]
  },
  {
   "cell_type": "code",
   "execution_count": 2,
   "id": "076a0ed2",
   "metadata": {},
   "outputs": [
    {
     "name": "stderr",
     "output_type": "stream",
     "text": [
      "Setting default log level to \"WARN\".\n",
      "To adjust logging level use sc.setLogLevel(newLevel). For SparkR, use setLogLevel(newLevel).\n",
      "23/12/09 21:24:07 WARN NativeCodeLoader: Unable to load native-hadoop library for your platform... using builtin-java classes where applicable\n",
      "23/12/09 21:24:08 WARN Utils: Service 'SparkUI' could not bind on port 4040. Attempting port 4041.\n"
     ]
    }
   ],
   "source": [
    "%%capture --no-stderr\n",
    "\n",
    "# Create a Spark session\n",
    "spark = SparkSession.builder.appName(\"FraudDetection\").getOrCreate()\n",
    "spark.sparkContext.setLogLevel(\"ERROR\")\n",
    "\n",
    "# Define the schema\n",
    "custom_schema = StructType([\n",
    "    StructField(\"Timestamp\", StringType(), nullable=True),\n",
    "    StructField(\"FromBank\", IntegerType(), nullable=True),\n",
    "    StructField(\"FromAccount\", StringType(), nullable=True),\n",
    "    StructField(\"ToBank\", IntegerType(), nullable=True),\n",
    "    StructField(\"ToAccount\", StringType(), nullable=True),\n",
    "    StructField(\"AmountReceived\", DoubleType(), nullable=True),\n",
    "    StructField(\"ReceivingCurrency\", StringType(), nullable=True),\n",
    "    StructField(\"AmountPaid\", DoubleType(), nullable=True),\n",
    "    StructField(\"PaymentCurrency\", StringType(), nullable=True),\n",
    "    StructField(\"PaymentFormat\", StringType(), nullable=True),\n",
    "    StructField(\"IsLaundering\", IntegerType(), nullable=True)\n",
    "])\n",
    "\n",
    "# Load the CSV file into a DataFrame with the specified schema\n",
    "file_path = \"HI-Small_Trans.csv\"\n",
    "df = spark.read.csv(file_path, header=True, schema=custom_schema)\n",
    "\n",
    "# Register the DataFrame as a temporary SQL table\n",
    "df.createOrReplaceTempView(\"transactions\")"
   ]
  },
  {
   "cell_type": "markdown",
   "id": "af05f549",
   "metadata": {},
   "source": [
    "## Data Extraction"
   ]
  },
  {
   "cell_type": "markdown",
   "id": "cd1f9d54",
   "metadata": {},
   "source": [
    "### Schema of the Dataset Imported"
   ]
  },
  {
   "cell_type": "code",
   "execution_count": 3,
   "id": "12793492",
   "metadata": {},
   "outputs": [
    {
     "name": "stdout",
     "output_type": "stream",
     "text": [
      "root\n",
      " |-- Timestamp: string (nullable = true)\n",
      " |-- FromBank: integer (nullable = true)\n",
      " |-- FromAccount: string (nullable = true)\n",
      " |-- ToBank: integer (nullable = true)\n",
      " |-- ToAccount: string (nullable = true)\n",
      " |-- AmountReceived: double (nullable = true)\n",
      " |-- ReceivingCurrency: string (nullable = true)\n",
      " |-- AmountPaid: double (nullable = true)\n",
      " |-- PaymentCurrency: string (nullable = true)\n",
      " |-- PaymentFormat: string (nullable = true)\n",
      " |-- IsLaundering: integer (nullable = true)\n",
      "\n"
     ]
    }
   ],
   "source": [
    "df.printSchema()"
   ]
  },
  {
   "cell_type": "markdown",
   "id": "3d1dc9d1",
   "metadata": {},
   "source": [
    "### Convert string data in 'Timestamp' column to timestamp datatype"
   ]
  },
  {
   "cell_type": "code",
   "execution_count": 4,
   "id": "7ab8313e",
   "metadata": {},
   "outputs": [
    {
     "name": "stdout",
     "output_type": "stream",
     "text": [
      "root\n",
      " |-- Timestamp: timestamp (nullable = true)\n",
      " |-- FromBank: integer (nullable = true)\n",
      " |-- FromAccount: string (nullable = true)\n",
      " |-- ToBank: integer (nullable = true)\n",
      " |-- ToAccount: string (nullable = true)\n",
      " |-- AmountReceived: double (nullable = true)\n",
      " |-- ReceivingCurrency: string (nullable = true)\n",
      " |-- AmountPaid: double (nullable = true)\n",
      " |-- PaymentCurrency: string (nullable = true)\n",
      " |-- PaymentFormat: string (nullable = true)\n",
      " |-- IsLaundering: integer (nullable = true)\n",
      "\n"
     ]
    }
   ],
   "source": [
    "from pyspark.sql.functions import to_timestamp\n",
    "\n",
    "# Assuming \"timestamp_str\" is the column containing the timestamp string\n",
    "df = df.withColumn(\"Timestamp\", to_timestamp(\"Timestamp\", \"yyyy/MM/dd HH:mm\"))\n",
    "\n",
    "# Show the DataFrame schema with the new timestamp column\n",
    "df.printSchema()"
   ]
  },
  {
   "cell_type": "markdown",
   "id": "d5d5c95d",
   "metadata": {},
   "source": [
    "### View the data in tabular format"
   ]
  },
  {
   "cell_type": "code",
   "execution_count": 5,
   "id": "7b9d0685",
   "metadata": {},
   "outputs": [
    {
     "name": "stderr",
     "output_type": "stream",
     "text": [
      "                                                                                \r"
     ]
    },
    {
     "name": "stdout",
     "output_type": "stream",
     "text": [
      "+-------------------+--------+-----------+------+---------+--------------+-----------------+----------+---------------+-------------+------------+\n",
      "|          Timestamp|FromBank|FromAccount|ToBank|ToAccount|AmountReceived|ReceivingCurrency|AmountPaid|PaymentCurrency|PaymentFormat|IsLaundering|\n",
      "+-------------------+--------+-----------+------+---------+--------------+-----------------+----------+---------------+-------------+------------+\n",
      "|2022-09-01 00:20:00|      10|  8000EBD30|    10|8000EBD30|       3697.34|        US Dollar|   3697.34|      US Dollar| Reinvestment|           0|\n",
      "|2022-09-01 00:20:00|    3208|  8000F4580|     1|8000F5340|          0.01|        US Dollar|      0.01|      US Dollar|       Cheque|           0|\n",
      "|2022-09-01 00:00:00|    3209|  8000F4670|  3209|8000F4670|      14675.57|        US Dollar|  14675.57|      US Dollar| Reinvestment|           0|\n",
      "+-------------------+--------+-----------+------+---------+--------------+-----------------+----------+---------------+-------------+------------+\n",
      "only showing top 3 rows\n",
      "\n"
     ]
    }
   ],
   "source": [
    "import warnings\n",
    "warnings.filterwarnings('ignore')\n",
    "\n",
    "df.show(3)"
   ]
  },
  {
   "cell_type": "markdown",
   "id": "be4400f1",
   "metadata": {},
   "source": [
    "### No of records present in the dataframe"
   ]
  },
  {
   "cell_type": "code",
   "execution_count": 6,
   "id": "59e060ff",
   "metadata": {},
   "outputs": [
    {
     "name": "stderr",
     "output_type": "stream",
     "text": [
      "                                                                                \r"
     ]
    },
    {
     "data": {
      "text/plain": [
       "5078345"
      ]
     },
     "execution_count": 6,
     "metadata": {},
     "output_type": "execute_result"
    }
   ],
   "source": [
    "df.count()"
   ]
  },
  {
   "cell_type": "code",
   "execution_count": 7,
   "id": "fb4a187e",
   "metadata": {},
   "outputs": [
    {
     "name": "stderr",
     "output_type": "stream",
     "text": [
      "                                                                                \r"
     ]
    },
    {
     "data": {
      "image/png": "[encoded data removed]",
      "text/plain": [
       "<Figure size 640x480 with 1 Axes>"
      ]
     },
     "metadata": {},
     "output_type": "display_data"
    }
   ],
   "source": [
    "import matplotlib.pyplot as plt\n",
    "from matplotlib.ticker import FuncFormatter\n",
    "\n",
    "# Assuming df is your DataFrame\n",
    "\n",
    "# Calculate the total count of records\n",
    "total_records = df.count()\n",
    "\n",
    "# Calculate the count of transactions with different laundering statuses\n",
    "laundering_counts = df.groupBy(\"IsLaundering\").count().collect()\n",
    "\n",
    "# Plot the total count and counts for different laundering statuses using Matplotlib\n",
    "fig, ax = plt.subplots()\n",
    "\n",
    "# Plot for total records\n",
    "ax.bar(['Total Records'], [total_records], color='blue')\n",
    "\n",
    "# Plot for counts with different laundering statuses\n",
    "for row in laundering_counts:\n",
    "    status, count = row['IsLaundering'], row['count']\n",
    "    status_label = 'Not Laundering' if status == 0 else 'Laundering'\n",
    "    ax.bar([f'{status_label}'], [count], label=f'{status_label}', alpha=0.7)\n",
    "\n",
    "# Customize the plot as needed\n",
    "ax.set_title('Total Number of Records and Counts with Different Laundering Status')\n",
    "ax.set_ylabel('Count')\n",
    "ax.legend()\n",
    "\n",
    "# Format the y-axis ticks with proper steps (e.g., in millions)\n",
    "def format_ticks(value, pos):\n",
    "    if value < 1e6:\n",
    "        return f'{int(value):,}'\n",
    "    else:\n",
    "        return f'{value / 1e6:.1f}M'\n",
    "\n",
    "ax.yaxis.set_major_formatter(FuncFormatter(format_ticks))\n",
    "\n",
    "# Show the plot\n",
    "plt.show()\n"
   ]
  },
  {
   "cell_type": "markdown",
   "id": "bde09929",
   "metadata": {},
   "source": [
    "### It looks like there is no record corresponding to positive laundering cases in the dataset because the number of positive money laundering cases is relatively much lower "
   ]
  },
  {
   "cell_type": "code",
   "execution_count": 8,
   "id": "c10f40af",
   "metadata": {},
   "outputs": [
    {
     "name": "stdout",
     "output_type": "stream",
     "text": [
      "Number of Laundering Cases: 5177\n"
     ]
    }
   ],
   "source": [
    "# Print the number of laundering cases\n",
    "num_laundering_cases = next((row['count'] for row in laundering_counts if row['IsLaundering'] == 1), 0)\n",
    "print(f\"Number of Laundering Cases: {num_laundering_cases}\")"
   ]
  },
  {
   "cell_type": "code",
   "execution_count": 9,
   "id": "51ca93d2",
   "metadata": {},
   "outputs": [
    {
     "name": "stdout",
     "output_type": "stream",
     "text": [
      "Number of Non Laundering Cases: 5073168\n"
     ]
    }
   ],
   "source": [
    "# Print the number of laundering cases\n",
    "num_non_laundering_cases = next((row['count'] for row in laundering_counts if row['IsLaundering'] == 0), 0)\n",
    "print(f\"Number of Non Laundering Cases: {num_non_laundering_cases}\")\n"
   ]
  },
  {
   "cell_type": "markdown",
   "id": "4fd7a6b6",
   "metadata": {},
   "source": [
    "### Check for NULL Values in Every Column"
   ]
  },
  {
   "cell_type": "code",
   "execution_count": 10,
   "id": "f6e1078f",
   "metadata": {},
   "outputs": [
    {
     "name": "stderr",
     "output_type": "stream",
     "text": [
      "[Stage 40:===========================================>              (3 + 1) / 4]\r"
     ]
    },
    {
     "name": "stdout",
     "output_type": "stream",
     "text": [
      "               Column  NullCount\n",
      "0           Timestamp          0\n",
      "1            FromBank          0\n",
      "2         FromAccount          0\n",
      "3              ToBank          0\n",
      "4           ToAccount          0\n",
      "5      AmountReceived          0\n",
      "6   ReceivingCurrency          0\n",
      "7          AmountPaid          0\n",
      "8     PaymentCurrency          0\n",
      "9       PaymentFormat          0\n",
      "10       IsLaundering          0\n"
     ]
    },
    {
     "name": "stderr",
     "output_type": "stream",
     "text": [
      "                                                                                \r"
     ]
    }
   ],
   "source": [
    "from pyspark.sql.functions import col\n",
    "\n",
    "# Assuming df is your Spark DataFrame\n",
    "# Define the list of columns\n",
    "columns_to_check = df.columns\n",
    "\n",
    "# Create a list to store the results\n",
    "null_counts = []\n",
    "\n",
    "# Check for null values and collect results\n",
    "for col_name in columns_to_check:\n",
    "    null_count = df.filter(col(col_name).isNull()).count()\n",
    "    null_counts.append((col_name, null_count))\n",
    "\n",
    "# Convert the results to a Pandas DataFrame\n",
    "null_counts_df = pd.DataFrame(null_counts, columns=['Column', 'NullCount'])\n",
    "\n",
    "# Display the Pandas DataFrame\n",
    "print(null_counts_df)\n"
   ]
  },
  {
   "cell_type": "markdown",
   "id": "6a079a50",
   "metadata": {},
   "source": [
    "### Check for DUPLICATE Records"
   ]
  },
  {
   "cell_type": "markdown",
   "id": "7910c95f",
   "metadata": {},
   "source": [
    "### Count and Drop Missing Values: Because there are no cilumns with NULL/Missing Value, we need not perform this step"
   ]
  },
  {
   "cell_type": "code",
   "execution_count": 11,
   "id": "66a66560",
   "metadata": {},
   "outputs": [
    {
     "name": "stderr",
     "output_type": "stream",
     "text": [
      "[Stage 48:==============================================>           (4 + 1) / 5]\r"
     ]
    },
    {
     "name": "stdout",
     "output_type": "stream",
     "text": [
      "Found 9 duplicate records.\n"
     ]
    },
    {
     "name": "stderr",
     "output_type": "stream",
     "text": [
      "                                                                                \r"
     ]
    }
   ],
   "source": [
    "# Assuming df is your DataFrame\n",
    "duplicate_count = df.count() - df.dropDuplicates().count()\n",
    "\n",
    "if duplicate_count == 0:\n",
    "    print(\"No duplicate records found.\")\n",
    "else:\n",
    "    print(f\"Found {duplicate_count} duplicate records.\")"
   ]
  },
  {
   "cell_type": "markdown",
   "id": "3831d39f",
   "metadata": {},
   "source": [
    "### Show all DUPLICATE Records"
   ]
  },
  {
   "cell_type": "code",
   "execution_count": 12,
   "id": "f0d09fd9",
   "metadata": {},
   "outputs": [
    {
     "name": "stderr",
     "output_type": "stream",
     "text": [
      "                                                                                \r"
     ]
    },
    {
     "name": "stdout",
     "output_type": "stream",
     "text": [
      "Duplicate records:\n"
     ]
    },
    {
     "name": "stderr",
     "output_type": "stream",
     "text": [
      "                                                                                \r"
     ]
    },
    {
     "name": "stdout",
     "output_type": "stream",
     "text": [
      "+-------------------+--------+-----------+------+---------+--------------+-----------------+----------+---------------+-------------+------------+-----+\n",
      "|Timestamp          |FromBank|FromAccount|ToBank|ToAccount|AmountReceived|ReceivingCurrency|AmountPaid|PaymentCurrency|PaymentFormat|IsLaundering|count|\n",
      "+-------------------+--------+-----------+------+---------+--------------+-----------------+----------+---------------+-------------+------------+-----+\n",
      "|2022-09-07 21:25:00|29992   |8099A29B1  |220   |813725AE1|3.0E-6        |Bitcoin          |3.0E-6    |Bitcoin        |Bitcoin      |0           |2    |\n",
      "|2022-09-09 10:03:00|6075    |80C702911  |6075  |80C702910|2.0E-6        |Bitcoin          |0.02      |US Dollar      |ACH          |0           |2    |\n",
      "|2022-09-08 21:05:00|113779  |811144AB1  |53744 |813C777F1|2.0E-6        |Bitcoin          |2.0E-6    |Bitcoin        |Bitcoin      |0           |2    |\n",
      "|2022-09-08 21:05:00|113779  |811144AB1  |113779|811144AB0|2.0E-6        |Bitcoin          |0.02      |US Dollar      |ACH          |0           |2    |\n",
      "|2022-09-09 10:03:00|6075    |80C702911  |154653|814389B61|2.0E-6        |Bitcoin          |2.0E-6    |Bitcoin        |Bitcoin      |0           |2    |\n",
      "|2022-09-09 21:33:00|14433   |80935A891  |14433 |80935A890|1.0E-6        |Bitcoin          |0.01      |US Dollar      |ACH          |0           |2    |\n",
      "|2022-09-09 21:33:00|14433   |80935A891  |15    |813F7AE61|1.0E-6        |Bitcoin          |1.0E-6    |Bitcoin        |Bitcoin      |0           |2    |\n",
      "|2022-09-01 16:20:00|12004   |800C927C1  |220   |813D8C1E1|8.0E-6        |Bitcoin          |8.0E-6    |Bitcoin        |Bitcoin      |0           |2    |\n",
      "|2022-09-01 16:20:00|12004   |800C927C1  |12004 |800C927C0|8.0E-6        |Bitcoin          |0.08      |Euro           |ACH          |0           |2    |\n",
      "+-------------------+--------+-----------+------+---------+--------------+-----------------+----------+---------------+-------------+------------+-----+\n",
      "\n"
     ]
    }
   ],
   "source": [
    "# Assuming df is your DataFrame\n",
    "duplicate_records = df.groupBy(df.columns).count().filter(\"count > 1\")\n",
    "\n",
    "if duplicate_records.count() == 0:\n",
    "    print(\"No duplicate records found.\")\n",
    "else:\n",
    "    print(\"Duplicate records:\")\n",
    "    duplicate_records.show(truncate=False)"
   ]
  },
  {
   "cell_type": "markdown",
   "id": "600f3c06",
   "metadata": {},
   "source": [
    "### Drop Duplicates"
   ]
  },
  {
   "cell_type": "code",
   "execution_count": 13,
   "id": "75b6dce1",
   "metadata": {},
   "outputs": [
    {
     "name": "stderr",
     "output_type": "stream",
     "text": [
      "                                                                                \r"
     ]
    },
    {
     "data": {
      "text/plain": [
       "5078336"
      ]
     },
     "execution_count": 13,
     "metadata": {},
     "output_type": "execute_result"
    }
   ],
   "source": [
    "# Assuming df is your DataFrame\n",
    "df = df.dropDuplicates()\n",
    "\n",
    "# Show the result\n",
    "df.count()"
   ]
  },
  {
   "cell_type": "markdown",
   "id": "bca5acfa",
   "metadata": {},
   "source": [
    "### Amount is received in how many currencies?"
   ]
  },
  {
   "cell_type": "code",
   "execution_count": 14,
   "id": "981f64d5",
   "metadata": {},
   "outputs": [
    {
     "name": "stderr",
     "output_type": "stream",
     "text": [
      "                                                                                \r"
     ]
    },
    {
     "name": "stdout",
     "output_type": "stream",
     "text": [
      "+-----------------+-------+\n",
      "|ReceivingCurrency|count  |\n",
      "+-----------------+-------+\n",
      "|Yen              |156319 |\n",
      "|UK Pound         |181255 |\n",
      "|Australian Dollar|138511 |\n",
      "|Saudi Riyal      |89971  |\n",
      "|Mexican Peso     |111030 |\n",
      "|Shekel           |194988 |\n",
      "|Yuan             |206551 |\n",
      "|Canadian Dollar  |141357 |\n",
      "|Euro             |1172017|\n",
      "|Rupee            |192065 |\n",
      "|Swiss Franc      |237884 |\n",
      "|US Dollar        |1879341|\n",
      "|Brazil Real      |71544  |\n",
      "|Bitcoin          |148142 |\n",
      "|Ruble            |157361 |\n",
      "+-----------------+-------+\n",
      "\n"
     ]
    },
    {
     "name": "stderr",
     "output_type": "stream",
     "text": [
      "[Stage 77:===========================================>              (3 + 1) / 4]\r"
     ]
    },
    {
     "name": "stdout",
     "output_type": "stream",
     "text": [
      "No of currencies the amount is received in: 15\n"
     ]
    },
    {
     "name": "stderr",
     "output_type": "stream",
     "text": [
      "                                                                                \r"
     ]
    }
   ],
   "source": [
    "# Assuming df is your Spark DataFrame\n",
    "received_currencies_df = df.groupBy(\"ReceivingCurrency\").count()\n",
    "\n",
    "# Display the DataFrame of distinct currencies\n",
    "received_currencies_df.show(truncate=False)\n",
    "\n",
    "# Display the DataFrame of distinct currencies\n",
    "print(f\"No of currencies the amount is received in: {received_currencies_df.count()}\")\n"
   ]
  },
  {
   "cell_type": "markdown",
   "id": "dce30c1e",
   "metadata": {},
   "source": [
    "### Amount is paid in how many currencies?"
   ]
  },
  {
   "cell_type": "code",
   "execution_count": 15,
   "id": "0957e51f",
   "metadata": {},
   "outputs": [
    {
     "name": "stderr",
     "output_type": "stream",
     "text": [
      "                                                                                \r"
     ]
    },
    {
     "name": "stdout",
     "output_type": "stream",
     "text": [
      "+-----------------+-------+\n",
      "|PaymentCurrency  |count  |\n",
      "+-----------------+-------+\n",
      "|Yen              |155209 |\n",
      "|UK Pound         |180738 |\n",
      "|Australian Dollar|136769 |\n",
      "|Saudi Riyal      |89014  |\n",
      "|Mexican Peso     |110159 |\n",
      "|Shekel           |192184 |\n",
      "|Yuan             |213752 |\n",
      "|Canadian Dollar  |140042 |\n",
      "|Euro             |1168296|\n",
      "|Rupee            |190202 |\n",
      "|Swiss Franc      |234860 |\n",
      "|US Dollar        |1895169|\n",
      "|Brazil Real      |70703  |\n",
      "|Bitcoin          |146061 |\n",
      "|Ruble            |155178 |\n",
      "+-----------------+-------+\n",
      "\n"
     ]
    },
    {
     "name": "stderr",
     "output_type": "stream",
     "text": [
      "[Stage 89:===========================================>              (3 + 1) / 4]\r"
     ]
    },
    {
     "name": "stdout",
     "output_type": "stream",
     "text": [
      "No of currencies the amount is paid in: 15\n"
     ]
    },
    {
     "name": "stderr",
     "output_type": "stream",
     "text": [
      "                                                                                \r"
     ]
    }
   ],
   "source": [
    "# Assuming df is your Spark DataFrame\n",
    "paid_currencies_df = df.groupBy(\"PaymentCurrency\").count()\n",
    "\n",
    "# Display the DataFrame of distinct currencies\n",
    "paid_currencies_df.show(truncate=False)\n",
    "\n",
    "# Display the DataFrame of distinct currencies\n",
    "print(f\"No of currencies the amount is paid in: {paid_currencies_df.count()}\")"
   ]
  },
  {
   "cell_type": "markdown",
   "id": "9c736177",
   "metadata": {},
   "source": [
    "### Plot to show count of transactions in each currency for both - amount received and paid"
   ]
  },
  {
   "cell_type": "code",
   "execution_count": 16,
   "id": "4c36d156",
   "metadata": {},
   "outputs": [
    {
     "name": "stderr",
     "output_type": "stream",
     "text": [
      "                                                                                \r"
     ]
    },
    {
     "data": {
      "image/png": "[encoded data removed]",
      "text/plain": [
       "<Figure size 1200x500 with 1 Axes>"
      ]
     },
     "metadata": {},
     "output_type": "display_data"
    }
   ],
   "source": [
    "import matplotlib.pyplot as plt\n",
    "import matplotlib.ticker as ticker\n",
    "import pandas as pd\n",
    "\n",
    "# Assuming df is your Spark DataFrame\n",
    "# Code 1\n",
    "received_currencies_df = df.groupBy(\"ReceivingCurrency\").count()\n",
    "\n",
    "# Code 2\n",
    "paid_currencies_df = df.groupBy(\"PaymentCurrency\").count()\n",
    "\n",
    "# Convert to Pandas DataFrames\n",
    "received_currencies_pd = received_currencies_df.toPandas()\n",
    "paid_currencies_pd = paid_currencies_df.toPandas()\n",
    "\n",
    "# Plotting\n",
    "fig, ax = plt.subplots(figsize=(12, 5))\n",
    "\n",
    "# Plot for \"ReceivingCurrency\"\n",
    "received_currencies_pd.plot(kind='bar', x='ReceivingCurrency', y='count', ax=ax, color='skyblue', position=0.5, width=0.4, label='ReceivedCount')\n",
    "\n",
    "# Plot for \"PaymentCurrency\"\n",
    "paid_currencies_pd.plot(kind='bar', x='PaymentCurrency', y='count', ax=ax, color='lightcoral', position=-0.5, width=0.4, label='PaidCount')\n",
    "\n",
    "ax.set_title(\"Number of Currencies Amount is Received and Paid In\")\n",
    "ax.set_xlabel(\"Currency\")\n",
    "ax.set_ylabel(\"Count\")\n",
    "ax.legend()\n",
    "\n",
    "# Customize y-axis ticks in steps of thousands\n",
    "ax.yaxis.set_major_formatter(ticker.StrMethodFormatter(\"{x:,.0f}\"))\n",
    "\n",
    "plt.show()\n"
   ]
  },
  {
   "cell_type": "markdown",
   "id": "de128195",
   "metadata": {},
   "source": [
    "### Create Dataframe with currencies converted to USD"
   ]
  },
  {
   "cell_type": "code",
   "execution_count": 17,
   "id": "e7c0622d",
   "metadata": {},
   "outputs": [
    {
     "name": "stdout",
     "output_type": "stream",
     "text": [
      "             Currency  ExchangeRateToUSD\n",
      "0                 Yen             0.0069\n",
      "1            UK Pound             1.2340\n",
      "2   Australian Dollar             0.7040\n",
      "3         Saudi Riyal             0.2670\n",
      "4        Mexican Peso             0.0500\n",
      "5              Shekel             0.3000\n",
      "6                Yuan             0.1470\n",
      "7     Canadian Dollar             0.7540\n",
      "8                Euro             1.0450\n",
      "9               Rupee             0.0120\n",
      "10        Swiss Franc             1.0280\n",
      "11          US Dollar             1.0000\n",
      "12        Brazil Real             0.1910\n",
      "13            Bitcoin         16386.0000\n",
      "14              Ruble             0.0130\n"
     ]
    }
   ],
   "source": [
    "import pandas as pd\n",
    "\n",
    "# Define the exchange rates data\n",
    "exchange_rates_data = [\n",
    "    {\"Currency\": \"Yen\", \"ExchangeRateToUSD\": 0.0069},\n",
    "    {\"Currency\": \"UK Pound\", \"ExchangeRateToUSD\": 1.234},\n",
    "    {\"Currency\": \"Australian Dollar\", \"ExchangeRateToUSD\": 0.704},\n",
    "    {\"Currency\": \"Saudi Riyal\", \"ExchangeRateToUSD\": 0.267},\n",
    "    {\"Currency\": \"Mexican Peso\", \"ExchangeRateToUSD\": 0.050},\n",
    "    {\"Currency\": \"Shekel\", \"ExchangeRateToUSD\": 0.300},\n",
    "    {\"Currency\": \"Yuan\", \"ExchangeRateToUSD\": 0.147},\n",
    "    {\"Currency\": \"Canadian Dollar\", \"ExchangeRateToUSD\": 0.754},\n",
    "    {\"Currency\": \"Euro\", \"ExchangeRateToUSD\": 1.045},\n",
    "    {\"Currency\": \"Rupee\", \"ExchangeRateToUSD\": 0.012},\n",
    "    {\"Currency\": \"Swiss Franc\", \"ExchangeRateToUSD\": 1.028},\n",
    "    {\"Currency\": \"US Dollar\", \"ExchangeRateToUSD\": 1.0},\n",
    "    {\"Currency\": \"Brazil Real\", \"ExchangeRateToUSD\": 0.191},\n",
    "    {\"Currency\": \"Bitcoin\", \"ExchangeRateToUSD\": 16386},\n",
    "    {\"Currency\": \"Ruble\", \"ExchangeRateToUSD\": 0.013},\n",
    "]\n",
    "\n",
    "# Create the exchange_rates_df DataFrame in Pandas\n",
    "exchange_rates_df = pd.DataFrame(exchange_rates_data)\n",
    "\n",
    "# Display the Pandas DataFrame\n",
    "print(exchange_rates_df)"
   ]
  },
  {
   "cell_type": "code",
   "execution_count": 18,
   "id": "6068e8ef",
   "metadata": {},
   "outputs": [
    {
     "name": "stderr",
     "output_type": "stream",
     "text": [
      "[Stage 107:>                                                        (0 + 1) / 1]\r"
     ]
    },
    {
     "name": "stdout",
     "output_type": "stream",
     "text": [
      "+-----------------+-----------------+\n",
      "|         Currency|ExchangeRateToUSD|\n",
      "+-----------------+-----------------+\n",
      "|              Yen|           0.0069|\n",
      "|         UK Pound|            1.234|\n",
      "|Australian Dollar|            0.704|\n",
      "|      Saudi Riyal|            0.267|\n",
      "|     Mexican Peso|             0.05|\n",
      "|           Shekel|              0.3|\n",
      "|             Yuan|            0.147|\n",
      "|  Canadian Dollar|            0.754|\n",
      "|             Euro|            1.045|\n",
      "|            Rupee|            0.012|\n",
      "|      Swiss Franc|            1.028|\n",
      "|        US Dollar|              1.0|\n",
      "|      Brazil Real|            0.191|\n",
      "|          Bitcoin|          16386.0|\n",
      "|            Ruble|            0.013|\n",
      "+-----------------+-----------------+\n",
      "\n"
     ]
    },
    {
     "name": "stderr",
     "output_type": "stream",
     "text": [
      "                                                                                \r"
     ]
    }
   ],
   "source": [
    "exchange_rates_df = spark.createDataFrame(exchange_rates_df)\n",
    "\n",
    "# Show the PySpark DataFrame\n",
    "exchange_rates_df.show()"
   ]
  },
  {
   "cell_type": "code",
   "execution_count": 19,
   "id": "c2af56f8",
   "metadata": {},
   "outputs": [
    {
     "name": "stderr",
     "output_type": "stream",
     "text": [
      "[Stage 121:>                                                        (0 + 1) / 1]\r"
     ]
    },
    {
     "name": "stdout",
     "output_type": "stream",
     "text": [
      "+-------------------+--------+-----------+------+---------+--------------+-----------------+------------------+----------+-----------------+------------------+-------------+------------+\n",
      "|          Timestamp|FromBank|FromAccount|ToBank|ToAccount|AmountReceived|ReceivingCurrency| AmountReceivedUSD|AmountPaid|  PaymentCurrency|     AmountPaidUSD|PaymentFormat|IsLaundering|\n",
      "+-------------------+--------+-----------+------+---------+--------------+-----------------+------------------+----------+-----------------+------------------+-------------+------------+\n",
      "|2022-09-01 01:09:00|      70|  1004288A0|     6|80A1E4F60|        432.98|Australian Dollar|         304.81792|    432.98|Australian Dollar|         304.81792|       Cheque|           0|\n",
      "|2022-09-01 00:10:00|       6|  80A0EC1B0|     6|80A0EC1B0|     120101.05|Australian Dollar| 84551.13919999999| 120101.05|Australian Dollar| 84551.13919999999| Reinvestment|           0|\n",
      "|2022-09-01 21:22:00|       6|  80A104BE0|     6|80A102BB0|       1641.63|Australian Dollar|        1155.70752|   1641.63|Australian Dollar|        1155.70752|       Cheque|           0|\n",
      "|2022-09-01 07:01:00|      15|  80A11B710|     6|80A1CEDB0|        220.81|Australian Dollar|155.45023999999998|    220.81|Australian Dollar|155.45023999999998|       Cheque|           0|\n",
      "|2022-09-02 00:04:00|      19|  80A14E8D0|     6|80A214C40|        570.87|Australian Dollar|         401.89248|    570.87|Australian Dollar|         401.89248|         Cash|           0|\n",
      "|2022-09-01 00:16:00|       6|  80A1FD8E0|     6|80A87F740|         69.59|Australian Dollar|          48.99136|     69.59|Australian Dollar|          48.99136|  Credit Card|           0|\n",
      "|2022-09-01 02:02:00|  228009|  80A5A7D40|     6|80A8A6E20|     310594.17|Australian Dollar|218658.29567999998| 310594.17|Australian Dollar|218658.29567999998|          ACH|           0|\n",
      "|2022-09-02 03:24:00|     701|  80311ECC0|    15|80A9FAAF0|        9577.4|Australian Dollar| 6742.489599999999|    9577.4|Australian Dollar| 6742.489599999999|       Cheque|           0|\n",
      "|2022-09-02 00:10:00|      15|  80A0FCE40|    15|80A10D150|         80.69|Australian Dollar| 56.80575999999999|     80.69|Australian Dollar| 56.80575999999999|  Credit Card|           0|\n",
      "|2022-09-01 15:08:00|      15|  80A14B630|    15|80A14B630|      29381.43|Australian Dollar|20684.526719999998|  29381.43|Australian Dollar|20684.526719999998| Reinvestment|           0|\n",
      "|2022-09-01 08:41:00|  228101|  80A24FD90|    15|80A28EE40|        321.45|Australian Dollar|226.30079999999998|    321.45|Australian Dollar|226.30079999999998|  Credit Card|           0|\n",
      "|2022-09-01 11:26:00|       6|  80A3E66B0|    15|80A5AAB70|       1492.44|Australian Dollar|        1050.67776|   1492.44|Australian Dollar|        1050.67776|  Credit Card|           0|\n",
      "|2022-09-01 00:00:00|   28222|  80AD68920|    15|80A3534E0|         68.46|Australian Dollar| 48.19583999999999|     68.46|Australian Dollar| 48.19583999999999|  Credit Card|           0|\n",
      "|2022-09-01 00:22:00|      15|  80ADAD6B0|    15|80ADAD6B0|         30.67|Australian Dollar|          21.59168|     30.67|Australian Dollar|          21.59168| Reinvestment|           0|\n",
      "|2022-09-01 14:11:00|      70|  1004288A0|    19|80A300D90|        823.32|Australian Dollar|         579.61728|    823.32|Australian Dollar|         579.61728|  Credit Card|           0|\n",
      "|2022-09-02 00:07:00|      70|  1004288A0|    19|80A8AF510|       2679.67|Australian Dollar|        1886.48768|   2679.67|Australian Dollar|        1886.48768|       Cheque|           0|\n",
      "|2022-09-01 08:18:00|      19|  8000A70B0|    19|8000A70B0|          47.0|Australian Dollar|            33.088|      47.0|Australian Dollar|            33.088|          ACH|           0|\n",
      "|2022-09-01 21:06:00|      28|  8000AB700|    19|80A122070|         25.23|Australian Dollar|          17.76192|     25.23|Australian Dollar|          17.76192|       Cheque|           0|\n",
      "|2022-09-02 05:16:00|     211|  8000AD500|    19|80A1E0740|       1003.61|Australian Dollar|         706.54144|   1003.61|Australian Dollar|         706.54144|       Cheque|           0|\n",
      "|2022-09-02 03:22:00|      28|  80A124A30|    19|80A490C10|         96.36|Australian Dollar|          67.83744|     96.36|Australian Dollar|          67.83744|  Credit Card|           0|\n",
      "+-------------------+--------+-----------+------+---------+--------------+-----------------+------------------+----------+-----------------+------------------+-------------+------------+\n",
      "only showing top 20 rows\n",
      "\n"
     ]
    },
    {
     "name": "stderr",
     "output_type": "stream",
     "text": [
      "                                                                                \r"
     ]
    }
   ],
   "source": [
    "from pyspark.sql.functions import col\n",
    "\n",
    "# Assuming df is your original DataFrame\n",
    "# Assuming exchange_rates_df is another DataFrame with columns Currency, ExchangeRateToUSD\n",
    "\n",
    "# Join the original DataFrame with exchange rates DataFrame for ReceivingCurrency\n",
    "df_with_receiving_rate = df.join(\n",
    "    exchange_rates_df.withColumnRenamed(\"Currency\", \"RecCurrency\") \\\n",
    "                    .withColumnRenamed(\"ExchangeRateToUSD\", \"ReceivingExchangeRate\"),\n",
    "    col(\"RecCurrency\") == col(\"ReceivingCurrency\")  # Assuming the original column name in df is ReceivingCurrencyOriginal\n",
    ")\n",
    "\n",
    "# Join the resulting DataFrame with exchange rates DataFrame for PaymentCurrency\n",
    "df_with_rates = df_with_receiving_rate.join(\n",
    "    exchange_rates_df.withColumnRenamed(\"Currency\", \"PayCurrency\") \\\n",
    "                    .withColumnRenamed(\"ExchangeRateToUSD\", \"PaymentExchangeRate\"),\n",
    "    col(\"PayCurrency\") == col(\"PaymentCurrency\")  # Assuming the original column name in df is PaymentCurrencyOriginal\n",
    ")\n",
    "\n",
    "# Convert AmountReceived and AmountPaid to USD based on exchange rates\n",
    "currency_converted_df = df_with_rates.withColumn(\"AmountReceivedUSD\", col(\"AmountReceived\") * col(\"ReceivingExchangeRate\"))\n",
    "currency_converted_df = currency_converted_df.withColumn(\"AmountPaidUSD\", col(\"AmountPaid\") * col(\"PaymentExchangeRate\"))\n",
    "\n",
    "# Select the relevant columns\n",
    "currency_converted_df = currency_converted_df.select(\"Timestamp\", \"FromBank\", \"FromAccount\", \"ToBank\", \"ToAccount\",\n",
    "                                                     \"AmountReceived\", \"ReceivingCurrency\", \"AmountReceivedUSD\",\n",
    "                                                     \"AmountPaid\", \"PaymentCurrency\", \"AmountPaidUSD\",\n",
    "                                                     \"PaymentFormat\", \"IsLaundering\")\n",
    "\n",
    "# Show the resulting DataFrame\n",
    "currency_converted_df.show()\n"
   ]
  },
  {
   "cell_type": "code",
   "execution_count": 21,
   "id": "b9a0ff06",
   "metadata": {},
   "outputs": [
    {
     "name": "stderr",
     "output_type": "stream",
     "text": [
      "23/12/09 21:58:41 ERROR Utils: Aborting task                        (0 + 2) / 4]\n",
      "com.univocity.parsers.common.TextWritingException: Error writing row.\n",
      "Internal state when error was thrown: recordCount=289646, recordData=[2022-09-02T23:15:00.000-04:00, 317990, 80687D240, 17854, 80682F2E0, 34.71, Euro, 36.27195, 34.71, Euro, 36.27195, ACH, 0]\n",
      "\tat com.univocity.parsers.common.AbstractWriter.throwExceptionAndClose(AbstractWriter.java:1055)\n",
      "\tat com.univocity.parsers.common.AbstractWriter.writeRow(AbstractWriter.java:834)\n",
      "\tat org.apache.spark.sql.catalyst.csv.UnivocityGenerator.write(UnivocityGenerator.scala:117)\n",
      "\tat org.apache.spark.sql.execution.datasources.csv.CsvOutputWriter.write(CsvOutputWriter.scala:46)\n",
      "\tat org.apache.spark.sql.execution.datasources.SingleDirectoryDataWriter.write(FileFormatDataWriter.scala:175)\n",
      "\tat org.apache.spark.sql.execution.datasources.FileFormatDataWriter.writeWithMetrics(FileFormatDataWriter.scala:85)\n",
      "\tat org.apache.spark.sql.execution.datasources.FileFormatDataWriter.writeWithIterator(FileFormatDataWriter.scala:92)\n",
      "\tat org.apache.spark.sql.execution.datasources.FileFormatWriter$.$anonfun$executeTask$1(FileFormatWriter.scala:403)\n",
      "\tat org.apache.spark.util.Utils$.tryWithSafeFinallyAndFailureCallbacks(Utils.scala:1397)\n",
      "\tat org.apache.spark.sql.execution.datasources.FileFormatWriter$.executeTask(FileFormatWriter.scala:410)\n",
      "\tat org.apache.spark.sql.execution.datasources.WriteFilesExec.$anonfun$doExecuteWrite$1(WriteFiles.scala:100)\n",
      "\tat org.apache.spark.rdd.RDD.$anonfun$mapPartitionsInternal$2(RDD.scala:890)\n",
      "\tat org.apache.spark.rdd.RDD.$anonfun$mapPartitionsInternal$2$adapted(RDD.scala:890)\n",
      "\tat org.apache.spark.rdd.MapPartitionsRDD.compute(MapPartitionsRDD.scala:52)\n",
      "\tat org.apache.spark.rdd.RDD.computeOrReadCheckpoint(RDD.scala:364)\n",
      "\tat org.apache.spark.rdd.RDD.iterator(RDD.scala:328)\n",
      "\tat org.apache.spark.scheduler.ResultTask.runTask(ResultTask.scala:93)\n",
      "\tat org.apache.spark.TaskContext.runTaskWithListeners(TaskContext.scala:161)\n",
      "\tat org.apache.spark.scheduler.Task.run(Task.scala:141)\n",
      "\tat org.apache.spark.executor.Executor$TaskRunner.$anonfun$run$4(Executor.scala:620)\n",
      "\tat org.apache.spark.util.SparkErrorUtils.tryWithSafeFinally(SparkErrorUtils.scala:64)\n",
      "\tat org.apache.spark.util.SparkErrorUtils.tryWithSafeFinally$(SparkErrorUtils.scala:61)\n",
      "\tat org.apache.spark.util.Utils$.tryWithSafeFinally(Utils.scala:94)\n",
      "\tat org.apache.spark.executor.Executor$TaskRunner.run(Executor.scala:623)\n",
      "\tat java.base/java.util.concurrent.ThreadPoolExecutor.runWorker(ThreadPoolExecutor.java:1144)\n",
      "\tat java.base/java.util.concurrent.ThreadPoolExecutor$Worker.run(ThreadPoolExecutor.java:642)\n",
      "\tat java.base/java.lang.Thread.run(Thread.java:1583)\n",
      "Caused by: java.lang.IllegalStateException: Error closing the output.\n",
      "\tat com.univocity.parsers.common.AbstractWriter.close(AbstractWriter.java:1000)\n",
      "\tat com.univocity.parsers.common.AbstractWriter.throwExceptionAndClose(AbstractWriter.java:1042)\n",
      "\tat com.univocity.parsers.common.AbstractWriter.internalWriteRow(AbstractWriter.java:949)\n",
      "\tat com.univocity.parsers.common.AbstractWriter.writeRow(AbstractWriter.java:832)\n",
      "\t... 25 more\n",
      "Caused by: org.apache.hadoop.fs.FSError: java.io.IOException: No space left on device\n",
      "\tat org.apache.hadoop.fs.RawLocalFileSystem$LocalFSFileOutputStream.write(RawLocalFileSystem.java:349)\n",
      "\tat java.base/java.io.BufferedOutputStream.flushBuffer(BufferedOutputStream.java:125)\n",
      "\tat java.base/java.io.BufferedOutputStream.implWrite(BufferedOutputStream.java:222)\n",
      "\tat java.base/java.io.BufferedOutputStream.write(BufferedOutputStream.java:206)\n",
      "\tat org.apache.hadoop.fs.FSDataOutputStream$PositionCache.write(FSDataOutputStream.java:62)\n",
      "\tat java.base/java.io.DataOutputStream.write(DataOutputStream.java:115)\n",
      "\tat org.apache.hadoop.fs.ChecksumFileSystem$ChecksumFSOutputSummer.writeChunk(ChecksumFileSystem.java:459)\n",
      "\tat org.apache.hadoop.fs.FSOutputSummer.writeChecksumChunks(FSOutputSummer.java:218)\n",
      "\tat org.apache.hadoop.fs.FSOutputSummer.flushBuffer(FSOutputSummer.java:165)\n",
      "\tat org.apache.hadoop.fs.FSOutputSummer.flushBuffer(FSOutputSummer.java:146)\n",
      "\tat org.apache.hadoop.fs.ChecksumFileSystem$ChecksumFSOutputSummer.close(ChecksumFileSystem.java:447)\n",
      "\tat org.apache.hadoop.fs.FSDataOutputStream$PositionCache.close(FSDataOutputStream.java:77)\n",
      "\tat org.apache.hadoop.fs.FSDataOutputStream.close(FSDataOutputStream.java:106)\n",
      "\tat java.base/sun.nio.cs.StreamEncoder.implClose(StreamEncoder.java:439)\n",
      "\tat java.base/sun.nio.cs.StreamEncoder.lockedClose(StreamEncoder.java:237)\n",
      "\tat java.base/sun.nio.cs.StreamEncoder.close(StreamEncoder.java:222)\n",
      "\tat java.base/java.io.OutputStreamWriter.close(OutputStreamWriter.java:266)\n",
      "\tat com.univocity.parsers.common.AbstractWriter.close(AbstractWriter.java:996)\n",
      "\t... 28 more\n",
      "Caused by: java.io.IOException: No space left on device\n",
      "\tat java.base/java.io.FileOutputStream.writeBytes(Native Method)\n",
      "\tat java.base/java.io.FileOutputStream.write(FileOutputStream.java:367)\n",
      "\tat org.apache.hadoop.fs.RawLocalFileSystem$LocalFSFileOutputStream.write(RawLocalFileSystem.java:345)\n",
      "\t... 45 more\n",
      "23/12/09 21:58:41 ERROR Utils: Aborting task\n",
      "com.univocity.parsers.common.TextWritingException: Error writing row.\n",
      "Internal state when error was thrown: recordCount=318733, recordData=[2022-09-05T23:42:00.000-04:00, 33739, 80C9DEA10, 34523, 80CDD5980, 60148.43, Mexican Peso, 3007.4215000000004, 60148.43, Mexican Peso, 3007.4215000000004, Credit Card, 0]\n",
      "\tat com.univocity.parsers.common.AbstractWriter.throwExceptionAndClose(AbstractWriter.java:1055)\n",
      "\tat com.univocity.parsers.common.AbstractWriter.writeRow(AbstractWriter.java:834)\n",
      "\tat org.apache.spark.sql.catalyst.csv.UnivocityGenerator.write(UnivocityGenerator.scala:117)\n",
      "\tat org.apache.spark.sql.execution.datasources.csv.CsvOutputWriter.write(CsvOutputWriter.scala:46)\n",
      "\tat org.apache.spark.sql.execution.datasources.SingleDirectoryDataWriter.write(FileFormatDataWriter.scala:175)\n",
      "\tat org.apache.spark.sql.execution.datasources.FileFormatDataWriter.writeWithMetrics(FileFormatDataWriter.scala:85)\n",
      "\tat org.apache.spark.sql.execution.datasources.FileFormatDataWriter.writeWithIterator(FileFormatDataWriter.scala:92)\n",
      "\tat org.apache.spark.sql.execution.datasources.FileFormatWriter$.$anonfun$executeTask$1(FileFormatWriter.scala:403)\n",
      "\tat org.apache.spark.util.Utils$.tryWithSafeFinallyAndFailureCallbacks(Utils.scala:1397)\n",
      "\tat org.apache.spark.sql.execution.datasources.FileFormatWriter$.executeTask(FileFormatWriter.scala:410)\n",
      "\tat org.apache.spark.sql.execution.datasources.WriteFilesExec.$anonfun$doExecuteWrite$1(WriteFiles.scala:100)\n",
      "\tat org.apache.spark.rdd.RDD.$anonfun$mapPartitionsInternal$2(RDD.scala:890)\n",
      "\tat org.apache.spark.rdd.RDD.$anonfun$mapPartitionsInternal$2$adapted(RDD.scala:890)\n",
      "\tat org.apache.spark.rdd.MapPartitionsRDD.compute(MapPartitionsRDD.scala:52)\n",
      "\tat org.apache.spark.rdd.RDD.computeOrReadCheckpoint(RDD.scala:364)\n",
      "\tat org.apache.spark.rdd.RDD.iterator(RDD.scala:328)\n",
      "\tat org.apache.spark.scheduler.ResultTask.runTask(ResultTask.scala:93)\n",
      "\tat org.apache.spark.TaskContext.runTaskWithListeners(TaskContext.scala:161)\n",
      "\tat org.apache.spark.scheduler.Task.run(Task.scala:141)\n",
      "\tat org.apache.spark.executor.Executor$TaskRunner.$anonfun$run$4(Executor.scala:620)\n",
      "\tat org.apache.spark.util.SparkErrorUtils.tryWithSafeFinally(SparkErrorUtils.scala:64)\n",
      "\tat org.apache.spark.util.SparkErrorUtils.tryWithSafeFinally$(SparkErrorUtils.scala:61)\n",
      "\tat org.apache.spark.util.Utils$.tryWithSafeFinally(Utils.scala:94)\n",
      "\tat org.apache.spark.executor.Executor$TaskRunner.run(Executor.scala:623)\n",
      "\tat java.base/java.util.concurrent.ThreadPoolExecutor.runWorker(ThreadPoolExecutor.java:1144)\n",
      "\tat java.base/java.util.concurrent.ThreadPoolExecutor$Worker.run(ThreadPoolExecutor.java:642)\n",
      "\tat java.base/java.lang.Thread.run(Thread.java:1583)\n",
      "Caused by: java.lang.IllegalStateException: Error closing the output.\n",
      "\tat com.univocity.parsers.common.AbstractWriter.close(AbstractWriter.java:1000)\n",
      "\tat com.univocity.parsers.common.AbstractWriter.throwExceptionAndClose(AbstractWriter.java:1042)\n",
      "\tat com.univocity.parsers.common.AbstractWriter.internalWriteRow(AbstractWriter.java:949)\n",
      "\tat com.univocity.parsers.common.AbstractWriter.writeRow(AbstractWriter.java:832)\n",
      "\t... 25 more\n",
      "Caused by: org.apache.hadoop.fs.FSError: java.io.IOException: No space left on device\n",
      "\tat org.apache.hadoop.fs.RawLocalFileSystem$LocalFSFileOutputStream.write(RawLocalFileSystem.java:349)\n",
      "\tat java.base/java.io.BufferedOutputStream.flushBuffer(BufferedOutputStream.java:125)\n",
      "\tat java.base/java.io.BufferedOutputStream.implWrite(BufferedOutputStream.java:222)\n",
      "\tat java.base/java.io.BufferedOutputStream.write(BufferedOutputStream.java:206)\n",
      "\tat org.apache.hadoop.fs.FSDataOutputStream$PositionCache.write(FSDataOutputStream.java:62)\n",
      "\tat java.base/java.io.DataOutputStream.write(DataOutputStream.java:115)\n",
      "\tat org.apache.hadoop.fs.ChecksumFileSystem$ChecksumFSOutputSummer.writeChunk(ChecksumFileSystem.java:459)\n",
      "\tat org.apache.hadoop.fs.FSOutputSummer.writeChecksumChunks(FSOutputSummer.java:218)\n",
      "\tat org.apache.hadoop.fs.FSOutputSummer.flushBuffer(FSOutputSummer.java:165)\n",
      "\tat org.apache.hadoop.fs.FSOutputSummer.flushBuffer(FSOutputSummer.java:146)\n",
      "\tat org.apache.hadoop.fs.ChecksumFileSystem$ChecksumFSOutputSummer.close(ChecksumFileSystem.java:447)\n",
      "\tat org.apache.hadoop.fs.FSDataOutputStream$PositionCache.close(FSDataOutputStream.java:77)\n",
      "\tat org.apache.hadoop.fs.FSDataOutputStream.close(FSDataOutputStream.java:106)\n",
      "\tat java.base/sun.nio.cs.StreamEncoder.implClose(StreamEncoder.java:439)\n",
      "\tat java.base/sun.nio.cs.StreamEncoder.lockedClose(StreamEncoder.java:237)\n",
      "\tat java.base/sun.nio.cs.StreamEncoder.close(StreamEncoder.java:222)\n",
      "\tat java.base/java.io.OutputStreamWriter.close(OutputStreamWriter.java:266)\n",
      "\tat com.univocity.parsers.common.AbstractWriter.close(AbstractWriter.java:996)\n",
      "\t... 28 more\n",
      "Caused by: java.io.IOException: No space left on device\n",
      "\tat java.base/java.io.FileOutputStream.writeBytes(Native Method)\n",
      "\tat java.base/java.io.FileOutputStream.write(FileOutputStream.java:367)\n",
      "\tat org.apache.hadoop.fs.RawLocalFileSystem$LocalFSFileOutputStream.write(RawLocalFileSystem.java:345)\n",
      "\t... 45 more\n",
      "23/12/09 21:58:41 ERROR FileFormatWriter: Job job_202312092158385024008471609561694_0137 aborted.\n",
      "23/12/09 21:58:41 ERROR Executor: Exception in task 0.0 in stage 137.0 (TID 207)\n",
      "org.apache.spark.SparkException: [TASK_WRITE_FAILED] Task failed while writing rows to file:/home/jovyan/PreprocessedDataset.\n",
      "\tat org.apache.spark.sql.errors.QueryExecutionErrors$.taskFailedWhileWritingRowsError(QueryExecutionErrors.scala:774)\n",
      "\tat org.apache.spark.sql.execution.datasources.FileFormatWriter$.executeTask(FileFormatWriter.scala:420)\n",
      "\tat org.apache.spark.sql.execution.datasources.WriteFilesExec.$anonfun$doExecuteWrite$1(WriteFiles.scala:100)\n",
      "\tat org.apache.spark.rdd.RDD.$anonfun$mapPartitionsInternal$2(RDD.scala:890)\n",
      "\tat org.apache.spark.rdd.RDD.$anonfun$mapPartitionsInternal$2$adapted(RDD.scala:890)\n",
      "\tat org.apache.spark.rdd.MapPartitionsRDD.compute(MapPartitionsRDD.scala:52)\n",
      "\tat org.apache.spark.rdd.RDD.computeOrReadCheckpoint(RDD.scala:364)\n",
      "\tat org.apache.spark.rdd.RDD.iterator(RDD.scala:328)\n",
      "\tat org.apache.spark.scheduler.ResultTask.runTask(ResultTask.scala:93)\n",
      "\tat org.apache.spark.TaskContext.runTaskWithListeners(TaskContext.scala:161)\n",
      "\tat org.apache.spark.scheduler.Task.run(Task.scala:141)\n",
      "\tat org.apache.spark.executor.Executor$TaskRunner.$anonfun$run$4(Executor.scala:620)\n",
      "\tat org.apache.spark.util.SparkErrorUtils.tryWithSafeFinally(SparkErrorUtils.scala:64)\n",
      "\tat org.apache.spark.util.SparkErrorUtils.tryWithSafeFinally$(SparkErrorUtils.scala:61)\n",
      "\tat org.apache.spark.util.Utils$.tryWithSafeFinally(Utils.scala:94)\n",
      "\tat org.apache.spark.executor.Executor$TaskRunner.run(Executor.scala:623)\n",
      "\tat java.base/java.util.concurrent.ThreadPoolExecutor.runWorker(ThreadPoolExecutor.java:1144)\n",
      "\tat java.base/java.util.concurrent.ThreadPoolExecutor$Worker.run(ThreadPoolExecutor.java:642)\n",
      "\tat java.base/java.lang.Thread.run(Thread.java:1583)\n",
      "Caused by: com.univocity.parsers.common.TextWritingException: Error writing row.\n",
      "Internal state when error was thrown: recordCount=318733, recordData=[2022-09-05T23:42:00.000-04:00, 33739, 80C9DEA10, 34523, 80CDD5980, 60148.43, Mexican Peso, 3007.4215000000004, 60148.43, Mexican Peso, 3007.4215000000004, Credit Card, 0]\n",
      "\tat com.univocity.parsers.common.AbstractWriter.throwExceptionAndClose(AbstractWriter.java:1055)\n",
      "\tat com.univocity.parsers.common.AbstractWriter.writeRow(AbstractWriter.java:834)\n",
      "\tat org.apache.spark.sql.catalyst.csv.UnivocityGenerator.write(UnivocityGenerator.scala:117)\n",
      "\tat org.apache.spark.sql.execution.datasources.csv.CsvOutputWriter.write(CsvOutputWriter.scala:46)\n",
      "\tat org.apache.spark.sql.execution.datasources.SingleDirectoryDataWriter.write(FileFormatDataWriter.scala:175)\n",
      "\tat org.apache.spark.sql.execution.datasources.FileFormatDataWriter.writeWithMetrics(FileFormatDataWriter.scala:85)\n",
      "\tat org.apache.spark.sql.execution.datasources.FileFormatDataWriter.writeWithIterator(FileFormatDataWriter.scala:92)\n",
      "\tat org.apache.spark.sql.execution.datasources.FileFormatWriter$.$anonfun$executeTask$1(FileFormatWriter.scala:403)\n",
      "\tat org.apache.spark.util.Utils$.tryWithSafeFinallyAndFailureCallbacks(Utils.scala:1397)\n",
      "\tat org.apache.spark.sql.execution.datasources.FileFormatWriter$.executeTask(FileFormatWriter.scala:410)\n",
      "\t... 17 more\n",
      "Caused by: java.lang.IllegalStateException: Error closing the output.\n",
      "\tat com.univocity.parsers.common.AbstractWriter.close(AbstractWriter.java:1000)\n",
      "\tat com.univocity.parsers.common.AbstractWriter.throwExceptionAndClose(AbstractWriter.java:1042)\n",
      "\tat com.univocity.parsers.common.AbstractWriter.internalWriteRow(AbstractWriter.java:949)\n",
      "\tat com.univocity.parsers.common.AbstractWriter.writeRow(AbstractWriter.java:832)\n",
      "\t... 25 more\n",
      "Caused by: org.apache.hadoop.fs.FSError: java.io.IOException: No space left on device\n",
      "\tat org.apache.hadoop.fs.RawLocalFileSystem$LocalFSFileOutputStream.write(RawLocalFileSystem.java:349)\n",
      "\tat java.base/java.io.BufferedOutputStream.flushBuffer(BufferedOutputStream.java:125)\n",
      "\tat java.base/java.io.BufferedOutputStream.implWrite(BufferedOutputStream.java:222)\n",
      "\tat java.base/java.io.BufferedOutputStream.write(BufferedOutputStream.java:206)\n",
      "\tat org.apache.hadoop.fs.FSDataOutputStream$PositionCache.write(FSDataOutputStream.java:62)\n",
      "\tat java.base/java.io.DataOutputStream.write(DataOutputStream.java:115)\n",
      "\tat org.apache.hadoop.fs.ChecksumFileSystem$ChecksumFSOutputSummer.writeChunk(ChecksumFileSystem.java:459)\n",
      "\tat org.apache.hadoop.fs.FSOutputSummer.writeChecksumChunks(FSOutputSummer.java:218)\n",
      "\tat org.apache.hadoop.fs.FSOutputSummer.flushBuffer(FSOutputSummer.java:165)\n",
      "\tat org.apache.hadoop.fs.FSOutputSummer.flushBuffer(FSOutputSummer.java:146)\n",
      "\tat org.apache.hadoop.fs.ChecksumFileSystem$ChecksumFSOutputSummer.close(ChecksumFileSystem.java:447)\n",
      "\tat org.apache.hadoop.fs.FSDataOutputStream$PositionCache.close(FSDataOutputStream.java:77)\n",
      "\tat org.apache.hadoop.fs.FSDataOutputStream.close(FSDataOutputStream.java:106)\n",
      "\tat java.base/sun.nio.cs.StreamEncoder.implClose(StreamEncoder.java:439)\n",
      "\tat java.base/sun.nio.cs.StreamEncoder.lockedClose(StreamEncoder.java:237)\n",
      "\tat java.base/sun.nio.cs.StreamEncoder.close(StreamEncoder.java:222)\n",
      "\tat java.base/java.io.OutputStreamWriter.close(OutputStreamWriter.java:266)\n",
      "\tat com.univocity.parsers.common.AbstractWriter.close(AbstractWriter.java:996)\n",
      "\t... 28 more\n",
      "Caused by: java.io.IOException: No space left on device\n",
      "\tat java.base/java.io.FileOutputStream.writeBytes(Native Method)\n",
      "\tat java.base/java.io.FileOutputStream.write(FileOutputStream.java:367)\n",
      "\tat org.apache.hadoop.fs.RawLocalFileSystem$LocalFSFileOutputStream.write(RawLocalFileSystem.java:345)\n",
      "\t... 45 more\n",
      "23/12/09 21:58:41 ERROR FileFormatWriter: Job job_202312092158385024008471609561694_0137 aborted.\n",
      "23/12/09 21:58:41 ERROR Executor: Exception in task 1.0 in stage 137.0 (TID 208)\n",
      "org.apache.spark.SparkException: [TASK_WRITE_FAILED] Task failed while writing rows to file:/home/jovyan/PreprocessedDataset.\n",
      "\tat org.apache.spark.sql.errors.QueryExecutionErrors$.taskFailedWhileWritingRowsError(QueryExecutionErrors.scala:774)\n",
      "\tat org.apache.spark.sql.execution.datasources.FileFormatWriter$.executeTask(FileFormatWriter.scala:420)\n",
      "\tat org.apache.spark.sql.execution.datasources.WriteFilesExec.$anonfun$doExecuteWrite$1(WriteFiles.scala:100)\n",
      "\tat org.apache.spark.rdd.RDD.$anonfun$mapPartitionsInternal$2(RDD.scala:890)\n",
      "\tat org.apache.spark.rdd.RDD.$anonfun$mapPartitionsInternal$2$adapted(RDD.scala:890)\n",
      "\tat org.apache.spark.rdd.MapPartitionsRDD.compute(MapPartitionsRDD.scala:52)\n",
      "\tat org.apache.spark.rdd.RDD.computeOrReadCheckpoint(RDD.scala:364)\n",
      "\tat org.apache.spark.rdd.RDD.iterator(RDD.scala:328)\n",
      "\tat org.apache.spark.scheduler.ResultTask.runTask(ResultTask.scala:93)\n",
      "\tat org.apache.spark.TaskContext.runTaskWithListeners(TaskContext.scala:161)\n",
      "\tat org.apache.spark.scheduler.Task.run(Task.scala:141)\n",
      "\tat org.apache.spark.executor.Executor$TaskRunner.$anonfun$run$4(Executor.scala:620)\n",
      "\tat org.apache.spark.util.SparkErrorUtils.tryWithSafeFinally(SparkErrorUtils.scala:64)\n",
      "\tat org.apache.spark.util.SparkErrorUtils.tryWithSafeFinally$(SparkErrorUtils.scala:61)\n",
      "\tat org.apache.spark.util.Utils$.tryWithSafeFinally(Utils.scala:94)\n",
      "\tat org.apache.spark.executor.Executor$TaskRunner.run(Executor.scala:623)\n",
      "\tat java.base/java.util.concurrent.ThreadPoolExecutor.runWorker(ThreadPoolExecutor.java:1144)\n",
      "\tat java.base/java.util.concurrent.ThreadPoolExecutor$Worker.run(ThreadPoolExecutor.java:642)\n",
      "\tat java.base/java.lang.Thread.run(Thread.java:1583)\n",
      "Caused by: com.univocity.parsers.common.TextWritingException: Error writing row.\n",
      "Internal state when error was thrown: recordCount=289646, recordData=[2022-09-02T23:15:00.000-04:00, 317990, 80687D240, 17854, 80682F2E0, 34.71, Euro, 36.27195, 34.71, Euro, 36.27195, ACH, 0]\n",
      "\tat com.univocity.parsers.common.AbstractWriter.throwExceptionAndClose(AbstractWriter.java:1055)\n",
      "\tat com.univocity.parsers.common.AbstractWriter.writeRow(AbstractWriter.java:834)\n",
      "\tat org.apache.spark.sql.catalyst.csv.UnivocityGenerator.write(UnivocityGenerator.scala:117)\n",
      "\tat org.apache.spark.sql.execution.datasources.csv.CsvOutputWriter.write(CsvOutputWriter.scala:46)\n",
      "\tat org.apache.spark.sql.execution.datasources.SingleDirectoryDataWriter.write(FileFormatDataWriter.scala:175)\n",
      "\tat org.apache.spark.sql.execution.datasources.FileFormatDataWriter.writeWithMetrics(FileFormatDataWriter.scala:85)\n",
      "\tat org.apache.spark.sql.execution.datasources.FileFormatDataWriter.writeWithIterator(FileFormatDataWriter.scala:92)\n",
      "\tat org.apache.spark.sql.execution.datasources.FileFormatWriter$.$anonfun$executeTask$1(FileFormatWriter.scala:403)\n",
      "\tat org.apache.spark.util.Utils$.tryWithSafeFinallyAndFailureCallbacks(Utils.scala:1397)\n",
      "\tat org.apache.spark.sql.execution.datasources.FileFormatWriter$.executeTask(FileFormatWriter.scala:410)\n",
      "\t... 17 more\n",
      "Caused by: java.lang.IllegalStateException: Error closing the output.\n",
      "\tat com.univocity.parsers.common.AbstractWriter.close(AbstractWriter.java:1000)\n",
      "\tat com.univocity.parsers.common.AbstractWriter.throwExceptionAndClose(AbstractWriter.java:1042)\n",
      "\tat com.univocity.parsers.common.AbstractWriter.internalWriteRow(AbstractWriter.java:949)\n",
      "\tat com.univocity.parsers.common.AbstractWriter.writeRow(AbstractWriter.java:832)\n",
      "\t... 25 more\n",
      "Caused by: org.apache.hadoop.fs.FSError: java.io.IOException: No space left on device\n",
      "\tat org.apache.hadoop.fs.RawLocalFileSystem$LocalFSFileOutputStream.write(RawLocalFileSystem.java:349)\n",
      "\tat java.base/java.io.BufferedOutputStream.flushBuffer(BufferedOutputStream.java:125)\n",
      "\tat java.base/java.io.BufferedOutputStream.implWrite(BufferedOutputStream.java:222)\n",
      "\tat java.base/java.io.BufferedOutputStream.write(BufferedOutputStream.java:206)\n",
      "\tat org.apache.hadoop.fs.FSDataOutputStream$PositionCache.write(FSDataOutputStream.java:62)\n",
      "\tat java.base/java.io.DataOutputStream.write(DataOutputStream.java:115)\n",
      "\tat org.apache.hadoop.fs.ChecksumFileSystem$ChecksumFSOutputSummer.writeChunk(ChecksumFileSystem.java:459)\n",
      "\tat org.apache.hadoop.fs.FSOutputSummer.writeChecksumChunks(FSOutputSummer.java:218)\n",
      "\tat org.apache.hadoop.fs.FSOutputSummer.flushBuffer(FSOutputSummer.java:165)\n",
      "\tat org.apache.hadoop.fs.FSOutputSummer.flushBuffer(FSOutputSummer.java:146)\n",
      "\tat org.apache.hadoop.fs.ChecksumFileSystem$ChecksumFSOutputSummer.close(ChecksumFileSystem.java:447)\n",
      "\tat org.apache.hadoop.fs.FSDataOutputStream$PositionCache.close(FSDataOutputStream.java:77)\n",
      "\tat org.apache.hadoop.fs.FSDataOutputStream.close(FSDataOutputStream.java:106)\n",
      "\tat java.base/sun.nio.cs.StreamEncoder.implClose(StreamEncoder.java:439)\n",
      "\tat java.base/sun.nio.cs.StreamEncoder.lockedClose(StreamEncoder.java:237)\n",
      "\tat java.base/sun.nio.cs.StreamEncoder.close(StreamEncoder.java:222)\n",
      "\tat java.base/java.io.OutputStreamWriter.close(OutputStreamWriter.java:266)\n",
      "\tat com.univocity.parsers.common.AbstractWriter.close(AbstractWriter.java:996)\n",
      "\t... 28 more\n",
      "Caused by: java.io.IOException: No space left on device\n",
      "\tat java.base/java.io.FileOutputStream.writeBytes(Native Method)\n",
      "\tat java.base/java.io.FileOutputStream.write(FileOutputStream.java:367)\n",
      "\tat org.apache.hadoop.fs.RawLocalFileSystem$LocalFSFileOutputStream.write(RawLocalFileSystem.java:345)\n",
      "\t... 45 more\n",
      "23/12/09 21:58:41 ERROR TaskSetManager: Task 0 in stage 137.0 failed 1 times; aborting job\n",
      "23/12/09 21:58:41 ERROR FileFormatWriter: Aborting job 829d4a60-8955-43fb-b980-d735643a7198.\n",
      "org.apache.spark.SparkException: Job aborted due to stage failure: Task 0 in stage 137.0 failed 1 times, most recent failure: Lost task 0.0 in stage 137.0 (TID 207) (jupyter-sv2564 executor driver): org.apache.spark.SparkException: [TASK_WRITE_FAILED] Task failed while writing rows to file:/home/jovyan/PreprocessedDataset.\n",
      "\tat org.apache.spark.sql.errors.QueryExecutionErrors$.taskFailedWhileWritingRowsError(QueryExecutionErrors.scala:774)\n",
      "\tat org.apache.spark.sql.execution.datasources.FileFormatWriter$.executeTask(FileFormatWriter.scala:420)\n",
      "\tat org.apache.spark.sql.execution.datasources.WriteFilesExec.$anonfun$doExecuteWrite$1(WriteFiles.scala:100)\n",
      "\tat org.apache.spark.rdd.RDD.$anonfun$mapPartitionsInternal$2(RDD.scala:890)\n",
      "\tat org.apache.spark.rdd.RDD.$anonfun$mapPartitionsInternal$2$adapted(RDD.scala:890)\n",
      "\tat org.apache.spark.rdd.MapPartitionsRDD.compute(MapPartitionsRDD.scala:52)\n",
      "\tat org.apache.spark.rdd.RDD.computeOrReadCheckpoint(RDD.scala:364)\n",
      "\tat org.apache.spark.rdd.RDD.iterator(RDD.scala:328)\n",
      "\tat org.apache.spark.scheduler.ResultTask.runTask(ResultTask.scala:93)\n",
      "\tat org.apache.spark.TaskContext.runTaskWithListeners(TaskContext.scala:161)\n",
      "\tat org.apache.spark.scheduler.Task.run(Task.scala:141)\n",
      "\tat org.apache.spark.executor.Executor$TaskRunner.$anonfun$run$4(Executor.scala:620)\n",
      "\tat org.apache.spark.util.SparkErrorUtils.tryWithSafeFinally(SparkErrorUtils.scala:64)\n",
      "\tat org.apache.spark.util.SparkErrorUtils.tryWithSafeFinally$(SparkErrorUtils.scala:61)\n",
      "\tat org.apache.spark.util.Utils$.tryWithSafeFinally(Utils.scala:94)\n",
      "\tat org.apache.spark.executor.Executor$TaskRunner.run(Executor.scala:623)\n",
      "\tat java.base/java.util.concurrent.ThreadPoolExecutor.runWorker(ThreadPoolExecutor.java:1144)\n",
      "\tat java.base/java.util.concurrent.ThreadPoolExecutor$Worker.run(ThreadPoolExecutor.java:642)\n",
      "\tat java.base/java.lang.Thread.run(Thread.java:1583)\n",
      "Caused by: com.univocity.parsers.common.TextWritingException: Error writing row.\n",
      "Internal state when error was thrown: recordCount=318733, recordData=[2022-09-05T23:42:00.000-04:00, 33739, 80C9DEA10, 34523, 80CDD5980, 60148.43, Mexican Peso, 3007.4215000000004, 60148.43, Mexican Peso, 3007.4215000000004, Credit Card, 0]\n",
      "\tat com.univocity.parsers.common.AbstractWriter.throwExceptionAndClose(AbstractWriter.java:1055)\n",
      "\tat com.univocity.parsers.common.AbstractWriter.writeRow(AbstractWriter.java:834)\n",
      "\tat org.apache.spark.sql.catalyst.csv.UnivocityGenerator.write(UnivocityGenerator.scala:117)\n",
      "\tat org.apache.spark.sql.execution.datasources.csv.CsvOutputWriter.write(CsvOutputWriter.scala:46)\n",
      "\tat org.apache.spark.sql.execution.datasources.SingleDirectoryDataWriter.write(FileFormatDataWriter.scala:175)\n",
      "\tat org.apache.spark.sql.execution.datasources.FileFormatDataWriter.writeWithMetrics(FileFormatDataWriter.scala:85)\n",
      "\tat org.apache.spark.sql.execution.datasources.FileFormatDataWriter.writeWithIterator(FileFormatDataWriter.scala:92)\n",
      "\tat org.apache.spark.sql.execution.datasources.FileFormatWriter$.$anonfun$executeTask$1(FileFormatWriter.scala:403)\n",
      "\tat org.apache.spark.util.Utils$.tryWithSafeFinallyAndFailureCallbacks(Utils.scala:1397)\n",
      "\tat org.apache.spark.sql.execution.datasources.FileFormatWriter$.executeTask(FileFormatWriter.scala:410)\n",
      "\t... 17 more\n",
      "Caused by: java.lang.IllegalStateException: Error closing the output.\n",
      "\tat com.univocity.parsers.common.AbstractWriter.close(AbstractWriter.java:1000)\n",
      "\tat com.univocity.parsers.common.AbstractWriter.throwExceptionAndClose(AbstractWriter.java:1042)\n",
      "\tat com.univocity.parsers.common.AbstractWriter.internalWriteRow(AbstractWriter.java:949)\n",
      "\tat com.univocity.parsers.common.AbstractWriter.writeRow(AbstractWriter.java:832)\n",
      "\t... 25 more\n",
      "Caused by: org.apache.hadoop.fs.FSError: java.io.IOException: No space left on device\n",
      "\tat org.apache.hadoop.fs.RawLocalFileSystem$LocalFSFileOutputStream.write(RawLocalFileSystem.java:349)\n",
      "\tat java.base/java.io.BufferedOutputStream.flushBuffer(BufferedOutputStream.java:125)\n",
      "\tat java.base/java.io.BufferedOutputStream.implWrite(BufferedOutputStream.java:222)\n",
      "\tat java.base/java.io.BufferedOutputStream.write(BufferedOutputStream.java:206)\n",
      "\tat org.apache.hadoop.fs.FSDataOutputStream$PositionCache.write(FSDataOutputStream.java:62)\n",
      "\tat java.base/java.io.DataOutputStream.write(DataOutputStream.java:115)\n",
      "\tat org.apache.hadoop.fs.ChecksumFileSystem$ChecksumFSOutputSummer.writeChunk(ChecksumFileSystem.java:459)\n",
      "\tat org.apache.hadoop.fs.FSOutputSummer.writeChecksumChunks(FSOutputSummer.java:218)\n",
      "\tat org.apache.hadoop.fs.FSOutputSummer.flushBuffer(FSOutputSummer.java:165)\n",
      "\tat org.apache.hadoop.fs.FSOutputSummer.flushBuffer(FSOutputSummer.java:146)\n",
      "\tat org.apache.hadoop.fs.ChecksumFileSystem$ChecksumFSOutputSummer.close(ChecksumFileSystem.java:447)\n",
      "\tat org.apache.hadoop.fs.FSDataOutputStream$PositionCache.close(FSDataOutputStream.java:77)\n",
      "\tat org.apache.hadoop.fs.FSDataOutputStream.close(FSDataOutputStream.java:106)\n",
      "\tat java.base/sun.nio.cs.StreamEncoder.implClose(StreamEncoder.java:439)\n",
      "\tat java.base/sun.nio.cs.StreamEncoder.lockedClose(StreamEncoder.java:237)\n",
      "\tat java.base/sun.nio.cs.StreamEncoder.close(StreamEncoder.java:222)\n",
      "\tat java.base/java.io.OutputStreamWriter.close(OutputStreamWriter.java:266)\n",
      "\tat com.univocity.parsers.common.AbstractWriter.close(AbstractWriter.java:996)\n",
      "\t... 28 more\n",
      "Caused by: java.io.IOException: No space left on device\n",
      "\tat java.base/java.io.FileOutputStream.writeBytes(Native Method)\n",
      "\tat java.base/java.io.FileOutputStream.write(FileOutputStream.java:367)\n",
      "\tat org.apache.hadoop.fs.RawLocalFileSystem$LocalFSFileOutputStream.write(RawLocalFileSystem.java:345)\n",
      "\t... 45 more\n",
      "\n",
      "Driver stacktrace:\n",
      "\tat org.apache.spark.scheduler.DAGScheduler.failJobAndIndependentStages(DAGScheduler.scala:2844)\n",
      "\tat org.apache.spark.scheduler.DAGScheduler.$anonfun$abortStage$2(DAGScheduler.scala:2780)\n",
      "\tat org.apache.spark.scheduler.DAGScheduler.$anonfun$abortStage$2$adapted(DAGScheduler.scala:2779)\n",
      "\tat scala.collection.mutable.ResizableArray.foreach(ResizableArray.scala:62)\n",
      "\tat scala.collection.mutable.ResizableArray.foreach$(ResizableArray.scala:55)\n",
      "\tat scala.collection.mutable.ArrayBuffer.foreach(ArrayBuffer.scala:49)\n",
      "\tat org.apache.spark.scheduler.DAGScheduler.abortStage(DAGScheduler.scala:2779)\n",
      "\tat org.apache.spark.scheduler.DAGScheduler.$anonfun$handleTaskSetFailed$1(DAGScheduler.scala:1242)\n",
      "\tat org.apache.spark.scheduler.DAGScheduler.$anonfun$handleTaskSetFailed$1$adapted(DAGScheduler.scala:1242)\n",
      "\tat scala.Option.foreach(Option.scala:407)\n",
      "\tat org.apache.spark.scheduler.DAGScheduler.handleTaskSetFailed(DAGScheduler.scala:1242)\n",
      "\tat org.apache.spark.scheduler.DAGSchedulerEventProcessLoop.doOnReceive(DAGScheduler.scala:3048)\n",
      "\tat org.apache.spark.scheduler.DAGSchedulerEventProcessLoop.onReceive(DAGScheduler.scala:2982)\n",
      "\tat org.apache.spark.scheduler.DAGSchedulerEventProcessLoop.onReceive(DAGScheduler.scala:2971)\n",
      "\tat org.apache.spark.util.EventLoop$$anon$1.run(EventLoop.scala:49)\n",
      "\tat org.apache.spark.scheduler.DAGScheduler.runJob(DAGScheduler.scala:984)\n",
      "\tat org.apache.spark.SparkContext.runJob(SparkContext.scala:2398)\n",
      "\tat org.apache.spark.sql.execution.datasources.FileFormatWriter$.$anonfun$executeWrite$4(FileFormatWriter.scala:307)\n",
      "\tat org.apache.spark.sql.execution.datasources.FileFormatWriter$.writeAndCommit(FileFormatWriter.scala:271)\n",
      "\tat org.apache.spark.sql.execution.datasources.FileFormatWriter$.executeWrite(FileFormatWriter.scala:304)\n",
      "\tat org.apache.spark.sql.execution.datasources.FileFormatWriter$.write(FileFormatWriter.scala:190)\n",
      "\tat org.apache.spark.sql.execution.datasources.InsertIntoHadoopFsRelationCommand.run(InsertIntoHadoopFsRelationCommand.scala:190)\n",
      "\tat org.apache.spark.sql.execution.command.DataWritingCommandExec.sideEffectResult$lzycompute(commands.scala:113)\n",
      "\tat org.apache.spark.sql.execution.command.DataWritingCommandExec.sideEffectResult(commands.scala:111)\n",
      "\tat org.apache.spark.sql.execution.command.DataWritingCommandExec.executeCollect(commands.scala:125)\n",
      "\tat org.apache.spark.sql.execution.adaptive.AdaptiveSparkPlanExec.$anonfun$executeCollect$1(AdaptiveSparkPlanExec.scala:374)\n",
      "\tat org.apache.spark.sql.execution.adaptive.AdaptiveSparkPlanExec.withFinalPlanUpdate(AdaptiveSparkPlanExec.scala:402)\n",
      "\tat org.apache.spark.sql.execution.adaptive.AdaptiveSparkPlanExec.executeCollect(AdaptiveSparkPlanExec.scala:374)\n",
      "\tat org.apache.spark.sql.execution.QueryExecution$$anonfun$eagerlyExecuteCommands$1.$anonfun$applyOrElse$1(QueryExecution.scala:107)\n",
      "\tat org.apache.spark.sql.execution.SQLExecution$.$anonfun$withNewExecutionId$6(SQLExecution.scala:125)\n",
      "\tat org.apache.spark.sql.execution.SQLExecution$.withSQLConfPropagated(SQLExecution.scala:201)\n",
      "\tat org.apache.spark.sql.execution.SQLExecution$.$anonfun$withNewExecutionId$1(SQLExecution.scala:108)\n",
      "\tat org.apache.spark.sql.SparkSession.withActive(SparkSession.scala:900)\n",
      "\tat org.apache.spark.sql.execution.SQLExecution$.withNewExecutionId(SQLExecution.scala:66)\n",
      "\tat org.apache.spark.sql.execution.QueryExecution$$anonfun$eagerlyExecuteCommands$1.applyOrElse(QueryExecution.scala:107)\n",
      "\tat org.apache.spark.sql.execution.QueryExecution$$anonfun$eagerlyExecuteCommands$1.applyOrElse(QueryExecution.scala:98)\n",
      "\tat org.apache.spark.sql.catalyst.trees.TreeNode.$anonfun$transformDownWithPruning$1(TreeNode.scala:461)\n",
      "\tat org.apache.spark.sql.catalyst.trees.CurrentOrigin$.withOrigin(origin.scala:76)\n",
      "\tat org.apache.spark.sql.catalyst.trees.TreeNode.transformDownWithPruning(TreeNode.scala:461)\n",
      "\tat org.apache.spark.sql.catalyst.plans.logical.LogicalPlan.org$apache$spark$sql$catalyst$plans$logical$AnalysisHelper$$super$transformDownWithPruning(LogicalPlan.scala:32)\n",
      "\tat org.apache.spark.sql.catalyst.plans.logical.AnalysisHelper.transformDownWithPruning(AnalysisHelper.scala:267)\n",
      "\tat org.apache.spark.sql.catalyst.plans.logical.AnalysisHelper.transformDownWithPruning$(AnalysisHelper.scala:263)\n",
      "\tat org.apache.spark.sql.catalyst.plans.logical.LogicalPlan.transformDownWithPruning(LogicalPlan.scala:32)\n",
      "\tat org.apache.spark.sql.catalyst.plans.logical.LogicalPlan.transformDownWithPruning(LogicalPlan.scala:32)\n",
      "\tat org.apache.spark.sql.catalyst.trees.TreeNode.transformDown(TreeNode.scala:437)\n",
      "\tat org.apache.spark.sql.execution.QueryExecution.eagerlyExecuteCommands(QueryExecution.scala:98)\n",
      "\tat org.apache.spark.sql.execution.QueryExecution.commandExecuted$lzycompute(QueryExecution.scala:85)\n",
      "\tat org.apache.spark.sql.execution.QueryExecution.commandExecuted(QueryExecution.scala:83)\n",
      "\tat org.apache.spark.sql.execution.QueryExecution.assertCommandExecuted(QueryExecution.scala:142)\n",
      "\tat org.apache.spark.sql.DataFrameWriter.runCommand(DataFrameWriter.scala:859)\n",
      "\tat org.apache.spark.sql.DataFrameWriter.saveToV1Source(DataFrameWriter.scala:388)\n",
      "\tat org.apache.spark.sql.DataFrameWriter.saveInternal(DataFrameWriter.scala:361)\n",
      "\tat org.apache.spark.sql.DataFrameWriter.save(DataFrameWriter.scala:240)\n",
      "\tat org.apache.spark.sql.DataFrameWriter.csv(DataFrameWriter.scala:850)\n",
      "\tat java.base/jdk.internal.reflect.NativeMethodAccessorImpl.invoke0(Native Method)\n",
      "\tat java.base/jdk.internal.reflect.NativeMethodAccessorImpl.invoke(NativeMethodAccessorImpl.java:75)\n",
      "\tat java.base/jdk.internal.reflect.DelegatingMethodAccessorImpl.invoke(DelegatingMethodAccessorImpl.java:52)\n",
      "\tat java.base/java.lang.reflect.Method.invoke(Method.java:580)\n",
      "\tat py4j.reflection.MethodInvoker.invoke(MethodInvoker.java:244)\n",
      "\tat py4j.reflection.ReflectionEngine.invoke(ReflectionEngine.java:374)\n",
      "\tat py4j.Gateway.invoke(Gateway.java:282)\n",
      "\tat py4j.commands.AbstractCommand.invokeMethod(AbstractCommand.java:132)\n",
      "\tat py4j.commands.CallCommand.execute(CallCommand.java:79)\n",
      "\tat py4j.ClientServerConnection.waitForCommands(ClientServerConnection.java:182)\n",
      "\tat py4j.ClientServerConnection.run(ClientServerConnection.java:106)\n",
      "\tat java.base/java.lang.Thread.run(Thread.java:1583)\n",
      "Caused by: org.apache.spark.SparkException: [TASK_WRITE_FAILED] Task failed while writing rows to file:/home/jovyan/PreprocessedDataset.\n",
      "\tat org.apache.spark.sql.errors.QueryExecutionErrors$.taskFailedWhileWritingRowsError(QueryExecutionErrors.scala:774)\n",
      "\tat org.apache.spark.sql.execution.datasources.FileFormatWriter$.executeTask(FileFormatWriter.scala:420)\n",
      "\tat org.apache.spark.sql.execution.datasources.WriteFilesExec.$anonfun$doExecuteWrite$1(WriteFiles.scala:100)\n",
      "\tat org.apache.spark.rdd.RDD.$anonfun$mapPartitionsInternal$2(RDD.scala:890)\n",
      "\tat org.apache.spark.rdd.RDD.$anonfun$mapPartitionsInternal$2$adapted(RDD.scala:890)\n",
      "\tat org.apache.spark.rdd.MapPartitionsRDD.compute(MapPartitionsRDD.scala:52)\n",
      "\tat org.apache.spark.rdd.RDD.computeOrReadCheckpoint(RDD.scala:364)\n",
      "\tat org.apache.spark.rdd.RDD.iterator(RDD.scala:328)\n",
      "\tat org.apache.spark.scheduler.ResultTask.runTask(ResultTask.scala:93)\n",
      "\tat org.apache.spark.TaskContext.runTaskWithListeners(TaskContext.scala:161)\n",
      "\tat org.apache.spark.scheduler.Task.run(Task.scala:141)\n",
      "\tat org.apache.spark.executor.Executor$TaskRunner.$anonfun$run$4(Executor.scala:620)\n",
      "\tat org.apache.spark.util.SparkErrorUtils.tryWithSafeFinally(SparkErrorUtils.scala:64)\n",
      "\tat org.apache.spark.util.SparkErrorUtils.tryWithSafeFinally$(SparkErrorUtils.scala:61)\n",
      "\tat org.apache.spark.util.Utils$.tryWithSafeFinally(Utils.scala:94)\n",
      "\tat org.apache.spark.executor.Executor$TaskRunner.run(Executor.scala:623)\n",
      "\tat java.base/java.util.concurrent.ThreadPoolExecutor.runWorker(ThreadPoolExecutor.java:1144)\n",
      "\tat java.base/java.util.concurrent.ThreadPoolExecutor$Worker.run(ThreadPoolExecutor.java:642)\n",
      "\t... 1 more\n",
      "Caused by: com.univocity.parsers.common.TextWritingException: Error writing row.\n",
      "Internal state when error was thrown: recordCount=318733, recordData=[2022-09-05T23:42:00.000-04:00, 33739, 80C9DEA10, 34523, 80CDD5980, 60148.43, Mexican Peso, 3007.4215000000004, 60148.43, Mexican Peso, 3007.4215000000004, Credit Card, 0]\n",
      "\tat com.univocity.parsers.common.AbstractWriter.throwExceptionAndClose(AbstractWriter.java:1055)\n",
      "\tat com.univocity.parsers.common.AbstractWriter.writeRow(AbstractWriter.java:834)\n",
      "\tat org.apache.spark.sql.catalyst.csv.UnivocityGenerator.write(UnivocityGenerator.scala:117)\n",
      "\tat org.apache.spark.sql.execution.datasources.csv.CsvOutputWriter.write(CsvOutputWriter.scala:46)\n",
      "\tat org.apache.spark.sql.execution.datasources.SingleDirectoryDataWriter.write(FileFormatDataWriter.scala:175)\n",
      "\tat org.apache.spark.sql.execution.datasources.FileFormatDataWriter.writeWithMetrics(FileFormatDataWriter.scala:85)\n",
      "\tat org.apache.spark.sql.execution.datasources.FileFormatDataWriter.writeWithIterator(FileFormatDataWriter.scala:92)\n",
      "\tat org.apache.spark.sql.execution.datasources.FileFormatWriter$.$anonfun$executeTask$1(FileFormatWriter.scala:403)\n",
      "\tat org.apache.spark.util.Utils$.tryWithSafeFinallyAndFailureCallbacks(Utils.scala:1397)\n",
      "\tat org.apache.spark.sql.execution.datasources.FileFormatWriter$.executeTask(FileFormatWriter.scala:410)\n",
      "\t... 17 more\n",
      "Caused by: java.lang.IllegalStateException: Error closing the output.\n",
      "\tat com.univocity.parsers.common.AbstractWriter.close(AbstractWriter.java:1000)\n",
      "\tat com.univocity.parsers.common.AbstractWriter.throwExceptionAndClose(AbstractWriter.java:1042)\n",
      "\tat com.univocity.parsers.common.AbstractWriter.internalWriteRow(AbstractWriter.java:949)\n",
      "\tat com.univocity.parsers.common.AbstractWriter.writeRow(AbstractWriter.java:832)\n",
      "\t... 25 more\n",
      "Caused by: org.apache.hadoop.fs.FSError: java.io.IOException: No space left on device\n",
      "\tat org.apache.hadoop.fs.RawLocalFileSystem$LocalFSFileOutputStream.write(RawLocalFileSystem.java:349)\n",
      "\tat java.base/java.io.BufferedOutputStream.flushBuffer(BufferedOutputStream.java:125)\n",
      "\tat java.base/java.io.BufferedOutputStream.implWrite(BufferedOutputStream.java:222)\n",
      "\tat java.base/java.io.BufferedOutputStream.write(BufferedOutputStream.java:206)\n",
      "\tat org.apache.hadoop.fs.FSDataOutputStream$PositionCache.write(FSDataOutputStream.java:62)\n",
      "\tat java.base/java.io.DataOutputStream.write(DataOutputStream.java:115)\n",
      "\tat org.apache.hadoop.fs.ChecksumFileSystem$ChecksumFSOutputSummer.writeChunk(ChecksumFileSystem.java:459)\n",
      "\tat org.apache.hadoop.fs.FSOutputSummer.writeChecksumChunks(FSOutputSummer.java:218)\n",
      "\tat org.apache.hadoop.fs.FSOutputSummer.flushBuffer(FSOutputSummer.java:165)\n",
      "\tat org.apache.hadoop.fs.FSOutputSummer.flushBuffer(FSOutputSummer.java:146)\n",
      "\tat org.apache.hadoop.fs.ChecksumFileSystem$ChecksumFSOutputSummer.close(ChecksumFileSystem.java:447)\n",
      "\tat org.apache.hadoop.fs.FSDataOutputStream$PositionCache.close(FSDataOutputStream.java:77)\n",
      "\tat org.apache.hadoop.fs.FSDataOutputStream.close(FSDataOutputStream.java:106)\n",
      "\tat java.base/sun.nio.cs.StreamEncoder.implClose(StreamEncoder.java:439)\n",
      "\tat java.base/sun.nio.cs.StreamEncoder.lockedClose(StreamEncoder.java:237)\n",
      "\tat java.base/sun.nio.cs.StreamEncoder.close(StreamEncoder.java:222)\n",
      "\tat java.base/java.io.OutputStreamWriter.close(OutputStreamWriter.java:266)\n",
      "\tat com.univocity.parsers.common.AbstractWriter.close(AbstractWriter.java:996)\n",
      "\t... 28 more\n",
      "Caused by: java.io.IOException: No space left on device\n",
      "\tat java.base/java.io.FileOutputStream.writeBytes(Native Method)\n",
      "\tat java.base/java.io.FileOutputStream.write(FileOutputStream.java:367)\n",
      "\tat org.apache.hadoop.fs.RawLocalFileSystem$LocalFSFileOutputStream.write(RawLocalFileSystem.java:345)\n",
      "\t... 45 more\n"
     ]
    },
    {
     "ename": "Py4JJavaError",
     "evalue": "An error occurred while calling o198.csv.\n: org.apache.spark.SparkException: Job aborted due to stage failure: Task 0 in stage 137.0 failed 1 times, most recent failure: Lost task 0.0 in stage 137.0 (TID 207) (jupyter-sv2564 executor driver): org.apache.spark.SparkException: [TASK_WRITE_FAILED] Task failed while writing rows to file:/home/jovyan/PreprocessedDataset.\n\tat org.apache.spark.sql.errors.QueryExecutionErrors$.taskFailedWhileWritingRowsError(QueryExecutionErrors.scala:774)\n\tat org.apache.spark.sql.execution.datasources.FileFormatWriter$.executeTask(FileFormatWriter.scala:420)\n\tat org.apache.spark.sql.execution.datasources.WriteFilesExec.$anonfun$doExecuteWrite$1(WriteFiles.scala:100)\n\tat org.apache.spark.rdd.RDD.$anonfun$mapPartitionsInternal$2(RDD.scala:890)\n\tat org.apache.spark.rdd.RDD.$anonfun$mapPartitionsInternal$2$adapted(RDD.scala:890)\n\tat org.apache.spark.rdd.MapPartitionsRDD.compute(MapPartitionsRDD.scala:52)\n\tat org.apache.spark.rdd.RDD.computeOrReadCheckpoint(RDD.scala:364)\n\tat org.apache.spark.rdd.RDD.iterator(RDD.scala:328)\n\tat org.apache.spark.scheduler.ResultTask.runTask(ResultTask.scala:93)\n\tat org.apache.spark.TaskContext.runTaskWithListeners(TaskContext.scala:161)\n\tat org.apache.spark.scheduler.Task.run(Task.scala:141)\n\tat org.apache.spark.executor.Executor$TaskRunner.$anonfun$run$4(Executor.scala:620)\n\tat org.apache.spark.util.SparkErrorUtils.tryWithSafeFinally(SparkErrorUtils.scala:64)\n\tat org.apache.spark.util.SparkErrorUtils.tryWithSafeFinally$(SparkErrorUtils.scala:61)\n\tat org.apache.spark.util.Utils$.tryWithSafeFinally(Utils.scala:94)\n\tat org.apache.spark.executor.Executor$TaskRunner.run(Executor.scala:623)\n\tat java.base/java.util.concurrent.ThreadPoolExecutor.runWorker(ThreadPoolExecutor.java:1144)\n\tat java.base/java.util.concurrent.ThreadPoolExecutor$Worker.run(ThreadPoolExecutor.java:642)\n\tat java.base/java.lang.Thread.run(Thread.java:1583)\nCaused by: com.univocity.parsers.common.TextWritingException: Error writing row.\nInternal state when error was thrown: recordCount=318733, recordData=[2022-09-05T23:42:00.000-04:00, 33739, 80C9DEA10, 34523, 80CDD5980, 60148.43, Mexican Peso, 3007.4215000000004, 60148.43, Mexican Peso, 3007.4215000000004, Credit Card, 0]\n\tat com.univocity.parsers.common.AbstractWriter.throwExceptionAndClose(AbstractWriter.java:1055)\n\tat com.univocity.parsers.common.AbstractWriter.writeRow(AbstractWriter.java:834)\n\tat org.apache.spark.sql.catalyst.csv.UnivocityGenerator.write(UnivocityGenerator.scala:117)\n\tat org.apache.spark.sql.execution.datasources.csv.CsvOutputWriter.write(CsvOutputWriter.scala:46)\n\tat org.apache.spark.sql.execution.datasources.SingleDirectoryDataWriter.write(FileFormatDataWriter.scala:175)\n\tat org.apache.spark.sql.execution.datasources.FileFormatDataWriter.writeWithMetrics(FileFormatDataWriter.scala:85)\n\tat org.apache.spark.sql.execution.datasources.FileFormatDataWriter.writeWithIterator(FileFormatDataWriter.scala:92)\n\tat org.apache.spark.sql.execution.datasources.FileFormatWriter$.$anonfun$executeTask$1(FileFormatWriter.scala:403)\n\tat org.apache.spark.util.Utils$.tryWithSafeFinallyAndFailureCallbacks(Utils.scala:1397)\n\tat org.apache.spark.sql.execution.datasources.FileFormatWriter$.executeTask(FileFormatWriter.scala:410)\n\t... 17 more\nCaused by: java.lang.IllegalStateException: Error closing the output.\n\tat com.univocity.parsers.common.AbstractWriter.close(AbstractWriter.java:1000)\n\tat com.univocity.parsers.common.AbstractWriter.throwExceptionAndClose(AbstractWriter.java:1042)\n\tat com.univocity.parsers.common.AbstractWriter.internalWriteRow(AbstractWriter.java:949)\n\tat com.univocity.parsers.common.AbstractWriter.writeRow(AbstractWriter.java:832)\n\t... 25 more\nCaused by: org.apache.hadoop.fs.FSError: java.io.IOException: No space left on device\n\tat org.apache.hadoop.fs.RawLocalFileSystem$LocalFSFileOutputStream.write(RawLocalFileSystem.java:349)\n\tat java.base/java.io.BufferedOutputStream.flushBuffer(BufferedOutputStream.java:125)\n\tat java.base/java.io.BufferedOutputStream.implWrite(BufferedOutputStream.java:222)\n\tat java.base/java.io.BufferedOutputStream.write(BufferedOutputStream.java:206)\n\tat org.apache.hadoop.fs.FSDataOutputStream$PositionCache.write(FSDataOutputStream.java:62)\n\tat java.base/java.io.DataOutputStream.write(DataOutputStream.java:115)\n\tat org.apache.hadoop.fs.ChecksumFileSystem$ChecksumFSOutputSummer.writeChunk(ChecksumFileSystem.java:459)\n\tat org.apache.hadoop.fs.FSOutputSummer.writeChecksumChunks(FSOutputSummer.java:218)\n\tat org.apache.hadoop.fs.FSOutputSummer.flushBuffer(FSOutputSummer.java:165)\n\tat org.apache.hadoop.fs.FSOutputSummer.flushBuffer(FSOutputSummer.java:146)\n\tat org.apache.hadoop.fs.ChecksumFileSystem$ChecksumFSOutputSummer.close(ChecksumFileSystem.java:447)\n\tat org.apache.hadoop.fs.FSDataOutputStream$PositionCache.close(FSDataOutputStream.java:77)\n\tat org.apache.hadoop.fs.FSDataOutputStream.close(FSDataOutputStream.java:106)\n\tat java.base/sun.nio.cs.StreamEncoder.implClose(StreamEncoder.java:439)\n\tat java.base/sun.nio.cs.StreamEncoder.lockedClose(StreamEncoder.java:237)\n\tat java.base/sun.nio.cs.StreamEncoder.close(StreamEncoder.java:222)\n\tat java.base/java.io.OutputStreamWriter.close(OutputStreamWriter.java:266)\n\tat com.univocity.parsers.common.AbstractWriter.close(AbstractWriter.java:996)\n\t... 28 more\nCaused by: java.io.IOException: No space left on device\n\tat java.base/java.io.FileOutputStream.writeBytes(Native Method)\n\tat java.base/java.io.FileOutputStream.write(FileOutputStream.java:367)\n\tat org.apache.hadoop.fs.RawLocalFileSystem$LocalFSFileOutputStream.write(RawLocalFileSystem.java:345)\n\t... 45 more\n\nDriver stacktrace:\n\tat org.apache.spark.scheduler.DAGScheduler.failJobAndIndependentStages(DAGScheduler.scala:2844)\n\tat org.apache.spark.scheduler.DAGScheduler.$anonfun$abortStage$2(DAGScheduler.scala:2780)\n\tat org.apache.spark.scheduler.DAGScheduler.$anonfun$abortStage$2$adapted(DAGScheduler.scala:2779)\n\tat scala.collection.mutable.ResizableArray.foreach(ResizableArray.scala:62)\n\tat scala.collection.mutable.ResizableArray.foreach$(ResizableArray.scala:55)\n\tat scala.collection.mutable.ArrayBuffer.foreach(ArrayBuffer.scala:49)\n\tat org.apache.spark.scheduler.DAGScheduler.abortStage(DAGScheduler.scala:2779)\n\tat org.apache.spark.scheduler.DAGScheduler.$anonfun$handleTaskSetFailed$1(DAGScheduler.scala:1242)\n\tat org.apache.spark.scheduler.DAGScheduler.$anonfun$handleTaskSetFailed$1$adapted(DAGScheduler.scala:1242)\n\tat scala.Option.foreach(Option.scala:407)\n\tat org.apache.spark.scheduler.DAGScheduler.handleTaskSetFailed(DAGScheduler.scala:1242)\n\tat org.apache.spark.scheduler.DAGSchedulerEventProcessLoop.doOnReceive(DAGScheduler.scala:3048)\n\tat org.apache.spark.scheduler.DAGSchedulerEventProcessLoop.onReceive(DAGScheduler.scala:2982)\n\tat org.apache.spark.scheduler.DAGSchedulerEventProcessLoop.onReceive(DAGScheduler.scala:2971)\n\tat org.apache.spark.util.EventLoop$$anon$1.run(EventLoop.scala:49)\n\tat org.apache.spark.scheduler.DAGScheduler.runJob(DAGScheduler.scala:984)\n\tat org.apache.spark.SparkContext.runJob(SparkContext.scala:2398)\n\tat org.apache.spark.sql.execution.datasources.FileFormatWriter$.$anonfun$executeWrite$4(FileFormatWriter.scala:307)\n\tat org.apache.spark.sql.execution.datasources.FileFormatWriter$.writeAndCommit(FileFormatWriter.scala:271)\n\tat org.apache.spark.sql.execution.datasources.FileFormatWriter$.executeWrite(FileFormatWriter.scala:304)\n\tat org.apache.spark.sql.execution.datasources.FileFormatWriter$.write(FileFormatWriter.scala:190)\n\tat org.apache.spark.sql.execution.datasources.InsertIntoHadoopFsRelationCommand.run(InsertIntoHadoopFsRelationCommand.scala:190)\n\tat org.apache.spark.sql.execution.command.DataWritingCommandExec.sideEffectResult$lzycompute(commands.scala:113)\n\tat org.apache.spark.sql.execution.command.DataWritingCommandExec.sideEffectResult(commands.scala:111)\n\tat org.apache.spark.sql.execution.command.DataWritingCommandExec.executeCollect(commands.scala:125)\n\tat org.apache.spark.sql.execution.adaptive.AdaptiveSparkPlanExec.$anonfun$executeCollect$1(AdaptiveSparkPlanExec.scala:374)\n\tat org.apache.spark.sql.execution.adaptive.AdaptiveSparkPlanExec.withFinalPlanUpdate(AdaptiveSparkPlanExec.scala:402)\n\tat org.apache.spark.sql.execution.adaptive.AdaptiveSparkPlanExec.executeCollect(AdaptiveSparkPlanExec.scala:374)\n\tat org.apache.spark.sql.execution.QueryExecution$$anonfun$eagerlyExecuteCommands$1.$anonfun$applyOrElse$1(QueryExecution.scala:107)\n\tat org.apache.spark.sql.execution.SQLExecution$.$anonfun$withNewExecutionId$6(SQLExecution.scala:125)\n\tat org.apache.spark.sql.execution.SQLExecution$.withSQLConfPropagated(SQLExecution.scala:201)\n\tat org.apache.spark.sql.execution.SQLExecution$.$anonfun$withNewExecutionId$1(SQLExecution.scala:108)\n\tat org.apache.spark.sql.SparkSession.withActive(SparkSession.scala:900)\n\tat org.apache.spark.sql.execution.SQLExecution$.withNewExecutionId(SQLExecution.scala:66)\n\tat org.apache.spark.sql.execution.QueryExecution$$anonfun$eagerlyExecuteCommands$1.applyOrElse(QueryExecution.scala:107)\n\tat org.apache.spark.sql.execution.QueryExecution$$anonfun$eagerlyExecuteCommands$1.applyOrElse(QueryExecution.scala:98)\n\tat org.apache.spark.sql.catalyst.trees.TreeNode.$anonfun$transformDownWithPruning$1(TreeNode.scala:461)\n\tat org.apache.spark.sql.catalyst.trees.CurrentOrigin$.withOrigin(origin.scala:76)\n\tat org.apache.spark.sql.catalyst.trees.TreeNode.transformDownWithPruning(TreeNode.scala:461)\n\tat org.apache.spark.sql.catalyst.plans.logical.LogicalPlan.org$apache$spark$sql$catalyst$plans$logical$AnalysisHelper$$super$transformDownWithPruning(LogicalPlan.scala:32)\n\tat org.apache.spark.sql.catalyst.plans.logical.AnalysisHelper.transformDownWithPruning(AnalysisHelper.scala:267)\n\tat org.apache.spark.sql.catalyst.plans.logical.AnalysisHelper.transformDownWithPruning$(AnalysisHelper.scala:263)\n\tat org.apache.spark.sql.catalyst.plans.logical.LogicalPlan.transformDownWithPruning(LogicalPlan.scala:32)\n\tat org.apache.spark.sql.catalyst.plans.logical.LogicalPlan.transformDownWithPruning(LogicalPlan.scala:32)\n\tat org.apache.spark.sql.catalyst.trees.TreeNode.transformDown(TreeNode.scala:437)\n\tat org.apache.spark.sql.execution.QueryExecution.eagerlyExecuteCommands(QueryExecution.scala:98)\n\tat org.apache.spark.sql.execution.QueryExecution.commandExecuted$lzycompute(QueryExecution.scala:85)\n\tat org.apache.spark.sql.execution.QueryExecution.commandExecuted(QueryExecution.scala:83)\n\tat org.apache.spark.sql.execution.QueryExecution.assertCommandExecuted(QueryExecution.scala:142)\n\tat org.apache.spark.sql.DataFrameWriter.runCommand(DataFrameWriter.scala:859)\n\tat org.apache.spark.sql.DataFrameWriter.saveToV1Source(DataFrameWriter.scala:388)\n\tat org.apache.spark.sql.DataFrameWriter.saveInternal(DataFrameWriter.scala:361)\n\tat org.apache.spark.sql.DataFrameWriter.save(DataFrameWriter.scala:240)\n\tat org.apache.spark.sql.DataFrameWriter.csv(DataFrameWriter.scala:850)\n\tat java.base/jdk.internal.reflect.NativeMethodAccessorImpl.invoke0(Native Method)\n\tat java.base/jdk.internal.reflect.NativeMethodAccessorImpl.invoke(NativeMethodAccessorImpl.java:75)\n\tat java.base/jdk.internal.reflect.DelegatingMethodAccessorImpl.invoke(DelegatingMethodAccessorImpl.java:52)\n\tat java.base/java.lang.reflect.Method.invoke(Method.java:580)\n\tat py4j.reflection.MethodInvoker.invoke(MethodInvoker.java:244)\n\tat py4j.reflection.ReflectionEngine.invoke(ReflectionEngine.java:374)\n\tat py4j.Gateway.invoke(Gateway.java:282)\n\tat py4j.commands.AbstractCommand.invokeMethod(AbstractCommand.java:132)\n\tat py4j.commands.CallCommand.execute(CallCommand.java:79)\n\tat py4j.ClientServerConnection.waitForCommands(ClientServerConnection.java:182)\n\tat py4j.ClientServerConnection.run(ClientServerConnection.java:106)\n\tat java.base/java.lang.Thread.run(Thread.java:1583)\nCaused by: org.apache.spark.SparkException: [TASK_WRITE_FAILED] Task failed while writing rows to file:/home/jovyan/PreprocessedDataset.\n\tat org.apache.spark.sql.errors.QueryExecutionErrors$.taskFailedWhileWritingRowsError(QueryExecutionErrors.scala:774)\n\tat org.apache.spark.sql.execution.datasources.FileFormatWriter$.executeTask(FileFormatWriter.scala:420)\n\tat org.apache.spark.sql.execution.datasources.WriteFilesExec.$anonfun$doExecuteWrite$1(WriteFiles.scala:100)\n\tat org.apache.spark.rdd.RDD.$anonfun$mapPartitionsInternal$2(RDD.scala:890)\n\tat org.apache.spark.rdd.RDD.$anonfun$mapPartitionsInternal$2$adapted(RDD.scala:890)\n\tat org.apache.spark.rdd.MapPartitionsRDD.compute(MapPartitionsRDD.scala:52)\n\tat org.apache.spark.rdd.RDD.computeOrReadCheckpoint(RDD.scala:364)\n\tat org.apache.spark.rdd.RDD.iterator(RDD.scala:328)\n\tat org.apache.spark.scheduler.ResultTask.runTask(ResultTask.scala:93)\n\tat org.apache.spark.TaskContext.runTaskWithListeners(TaskContext.scala:161)\n\tat org.apache.spark.scheduler.Task.run(Task.scala:141)\n\tat org.apache.spark.executor.Executor$TaskRunner.$anonfun$run$4(Executor.scala:620)\n\tat org.apache.spark.util.SparkErrorUtils.tryWithSafeFinally(SparkErrorUtils.scala:64)\n\tat org.apache.spark.util.SparkErrorUtils.tryWithSafeFinally$(SparkErrorUtils.scala:61)\n\tat org.apache.spark.util.Utils$.tryWithSafeFinally(Utils.scala:94)\n\tat org.apache.spark.executor.Executor$TaskRunner.run(Executor.scala:623)\n\tat java.base/java.util.concurrent.ThreadPoolExecutor.runWorker(ThreadPoolExecutor.java:1144)\n\tat java.base/java.util.concurrent.ThreadPoolExecutor$Worker.run(ThreadPoolExecutor.java:642)\n\t... 1 more\nCaused by: com.univocity.parsers.common.TextWritingException: Error writing row.\nInternal state when error was thrown: recordCount=318733, recordData=[2022-09-05T23:42:00.000-04:00, 33739, 80C9DEA10, 34523, 80CDD5980, 60148.43, Mexican Peso, 3007.4215000000004, 60148.43, Mexican Peso, 3007.4215000000004, Credit Card, 0]\n\tat com.univocity.parsers.common.AbstractWriter.throwExceptionAndClose(AbstractWriter.java:1055)\n\tat com.univocity.parsers.common.AbstractWriter.writeRow(AbstractWriter.java:834)\n\tat org.apache.spark.sql.catalyst.csv.UnivocityGenerator.write(UnivocityGenerator.scala:117)\n\tat org.apache.spark.sql.execution.datasources.csv.CsvOutputWriter.write(CsvOutputWriter.scala:46)\n\tat org.apache.spark.sql.execution.datasources.SingleDirectoryDataWriter.write(FileFormatDataWriter.scala:175)\n\tat org.apache.spark.sql.execution.datasources.FileFormatDataWriter.writeWithMetrics(FileFormatDataWriter.scala:85)\n\tat org.apache.spark.sql.execution.datasources.FileFormatDataWriter.writeWithIterator(FileFormatDataWriter.scala:92)\n\tat org.apache.spark.sql.execution.datasources.FileFormatWriter$.$anonfun$executeTask$1(FileFormatWriter.scala:403)\n\tat org.apache.spark.util.Utils$.tryWithSafeFinallyAndFailureCallbacks(Utils.scala:1397)\n\tat org.apache.spark.sql.execution.datasources.FileFormatWriter$.executeTask(FileFormatWriter.scala:410)\n\t... 17 more\nCaused by: java.lang.IllegalStateException: Error closing the output.\n\tat com.univocity.parsers.common.AbstractWriter.close(AbstractWriter.java:1000)\n\tat com.univocity.parsers.common.AbstractWriter.throwExceptionAndClose(AbstractWriter.java:1042)\n\tat com.univocity.parsers.common.AbstractWriter.internalWriteRow(AbstractWriter.java:949)\n\tat com.univocity.parsers.common.AbstractWriter.writeRow(AbstractWriter.java:832)\n\t... 25 more\nCaused by: org.apache.hadoop.fs.FSError: java.io.IOException: No space left on device\n\tat org.apache.hadoop.fs.RawLocalFileSystem$LocalFSFileOutputStream.write(RawLocalFileSystem.java:349)\n\tat java.base/java.io.BufferedOutputStream.flushBuffer(BufferedOutputStream.java:125)\n\tat java.base/java.io.BufferedOutputStream.implWrite(BufferedOutputStream.java:222)\n\tat java.base/java.io.BufferedOutputStream.write(BufferedOutputStream.java:206)\n\tat org.apache.hadoop.fs.FSDataOutputStream$PositionCache.write(FSDataOutputStream.java:62)\n\tat java.base/java.io.DataOutputStream.write(DataOutputStream.java:115)\n\tat org.apache.hadoop.fs.ChecksumFileSystem$ChecksumFSOutputSummer.writeChunk(ChecksumFileSystem.java:459)\n\tat org.apache.hadoop.fs.FSOutputSummer.writeChecksumChunks(FSOutputSummer.java:218)\n\tat org.apache.hadoop.fs.FSOutputSummer.flushBuffer(FSOutputSummer.java:165)\n\tat org.apache.hadoop.fs.FSOutputSummer.flushBuffer(FSOutputSummer.java:146)\n\tat org.apache.hadoop.fs.ChecksumFileSystem$ChecksumFSOutputSummer.close(ChecksumFileSystem.java:447)\n\tat org.apache.hadoop.fs.FSDataOutputStream$PositionCache.close(FSDataOutputStream.java:77)\n\tat org.apache.hadoop.fs.FSDataOutputStream.close(FSDataOutputStream.java:106)\n\tat java.base/sun.nio.cs.StreamEncoder.implClose(StreamEncoder.java:439)\n\tat java.base/sun.nio.cs.StreamEncoder.lockedClose(StreamEncoder.java:237)\n\tat java.base/sun.nio.cs.StreamEncoder.close(StreamEncoder.java:222)\n\tat java.base/java.io.OutputStreamWriter.close(OutputStreamWriter.java:266)\n\tat com.univocity.parsers.common.AbstractWriter.close(AbstractWriter.java:996)\n\t... 28 more\nCaused by: java.io.IOException: No space left on device\n\tat java.base/java.io.FileOutputStream.writeBytes(Native Method)\n\tat java.base/java.io.FileOutputStream.write(FileOutputStream.java:367)\n\tat org.apache.hadoop.fs.RawLocalFileSystem$LocalFSFileOutputStream.write(RawLocalFileSystem.java:345)\n\t... 45 more\n",
     "output_type": "error",
     "traceback": [
      "\u001b[0;31m---------------------------------------------------------------------------\u001b[0m",
      "\u001b[0;31mPy4JJavaError\u001b[0m                             Traceback (most recent call last)",
      "Cell \u001b[0;32mIn[21], line 1\u001b[0m\n\u001b[0;32m----> 1\u001b[0m \u001b[43mcurrency_converted_df\u001b[49m\u001b[38;5;241;43m.\u001b[39;49m\u001b[43mwrite\u001b[49m\u001b[38;5;241;43m.\u001b[39;49m\u001b[43mcsv\u001b[49m\u001b[43m(\u001b[49m\u001b[38;5;124;43m\"\u001b[39;49m\u001b[38;5;124;43mPreprocessedDataset\u001b[39;49m\u001b[38;5;124;43m\"\u001b[39;49m\u001b[43m,\u001b[49m\u001b[43m \u001b[49m\u001b[43mheader\u001b[49m\u001b[38;5;241;43m=\u001b[39;49m\u001b[38;5;28;43;01mTrue\u001b[39;49;00m\u001b[43m,\u001b[49m\u001b[43m \u001b[49m\u001b[43mmode\u001b[49m\u001b[38;5;241;43m=\u001b[39;49m\u001b[38;5;124;43m\"\u001b[39;49m\u001b[38;5;124;43moverwrite\u001b[39;49m\u001b[38;5;124;43m\"\u001b[39;49m\u001b[43m)\u001b[49m\n",
      "File \u001b[0;32m/opt/conda/envs/csgy-6513d-fall2023/lib/python3.9/site-packages/pyspark/sql/readwriter.py:1864\u001b[0m, in \u001b[0;36mDataFrameWriter.csv\u001b[0;34m(self, path, mode, compression, sep, quote, escape, header, nullValue, escapeQuotes, quoteAll, dateFormat, timestampFormat, ignoreLeadingWhiteSpace, ignoreTrailingWhiteSpace, charToEscapeQuoteEscaping, encoding, emptyValue, lineSep)\u001b[0m\n\u001b[1;32m   1845\u001b[0m \u001b[38;5;28mself\u001b[39m\u001b[38;5;241m.\u001b[39mmode(mode)\n\u001b[1;32m   1846\u001b[0m \u001b[38;5;28mself\u001b[39m\u001b[38;5;241m.\u001b[39m_set_opts(\n\u001b[1;32m   1847\u001b[0m     compression\u001b[38;5;241m=\u001b[39mcompression,\n\u001b[1;32m   1848\u001b[0m     sep\u001b[38;5;241m=\u001b[39msep,\n\u001b[0;32m   (...)\u001b[0m\n\u001b[1;32m   1862\u001b[0m     lineSep\u001b[38;5;241m=\u001b[39mlineSep,\n\u001b[1;32m   1863\u001b[0m )\n\u001b[0;32m-> 1864\u001b[0m \u001b[38;5;28;43mself\u001b[39;49m\u001b[38;5;241;43m.\u001b[39;49m\u001b[43m_jwrite\u001b[49m\u001b[38;5;241;43m.\u001b[39;49m\u001b[43mcsv\u001b[49m\u001b[43m(\u001b[49m\u001b[43mpath\u001b[49m\u001b[43m)\u001b[49m\n",
      "File \u001b[0;32m/opt/conda/envs/csgy-6513d-fall2023/lib/python3.9/site-packages/py4j/java_gateway.py:1322\u001b[0m, in \u001b[0;36mJavaMember.__call__\u001b[0;34m(self, *args)\u001b[0m\n\u001b[1;32m   1316\u001b[0m command \u001b[38;5;241m=\u001b[39m proto\u001b[38;5;241m.\u001b[39mCALL_COMMAND_NAME \u001b[38;5;241m+\u001b[39m\\\n\u001b[1;32m   1317\u001b[0m     \u001b[38;5;28mself\u001b[39m\u001b[38;5;241m.\u001b[39mcommand_header \u001b[38;5;241m+\u001b[39m\\\n\u001b[1;32m   1318\u001b[0m     args_command \u001b[38;5;241m+\u001b[39m\\\n\u001b[1;32m   1319\u001b[0m     proto\u001b[38;5;241m.\u001b[39mEND_COMMAND_PART\n\u001b[1;32m   1321\u001b[0m answer \u001b[38;5;241m=\u001b[39m \u001b[38;5;28mself\u001b[39m\u001b[38;5;241m.\u001b[39mgateway_client\u001b[38;5;241m.\u001b[39msend_command(command)\n\u001b[0;32m-> 1322\u001b[0m return_value \u001b[38;5;241m=\u001b[39m \u001b[43mget_return_value\u001b[49m\u001b[43m(\u001b[49m\n\u001b[1;32m   1323\u001b[0m \u001b[43m    \u001b[49m\u001b[43manswer\u001b[49m\u001b[43m,\u001b[49m\u001b[43m \u001b[49m\u001b[38;5;28;43mself\u001b[39;49m\u001b[38;5;241;43m.\u001b[39;49m\u001b[43mgateway_client\u001b[49m\u001b[43m,\u001b[49m\u001b[43m \u001b[49m\u001b[38;5;28;43mself\u001b[39;49m\u001b[38;5;241;43m.\u001b[39;49m\u001b[43mtarget_id\u001b[49m\u001b[43m,\u001b[49m\u001b[43m \u001b[49m\u001b[38;5;28;43mself\u001b[39;49m\u001b[38;5;241;43m.\u001b[39;49m\u001b[43mname\u001b[49m\u001b[43m)\u001b[49m\n\u001b[1;32m   1325\u001b[0m \u001b[38;5;28;01mfor\u001b[39;00m temp_arg \u001b[38;5;129;01min\u001b[39;00m temp_args:\n\u001b[1;32m   1326\u001b[0m     \u001b[38;5;28;01mif\u001b[39;00m \u001b[38;5;28mhasattr\u001b[39m(temp_arg, \u001b[38;5;124m\"\u001b[39m\u001b[38;5;124m_detach\u001b[39m\u001b[38;5;124m\"\u001b[39m):\n",
      "File \u001b[0;32m/opt/conda/envs/csgy-6513d-fall2023/lib/python3.9/site-packages/pyspark/errors/exceptions/captured.py:179\u001b[0m, in \u001b[0;36mcapture_sql_exception.<locals>.deco\u001b[0;34m(*a, **kw)\u001b[0m\n\u001b[1;32m    177\u001b[0m \u001b[38;5;28;01mdef\u001b[39;00m \u001b[38;5;21mdeco\u001b[39m(\u001b[38;5;241m*\u001b[39ma: Any, \u001b[38;5;241m*\u001b[39m\u001b[38;5;241m*\u001b[39mkw: Any) \u001b[38;5;241m-\u001b[39m\u001b[38;5;241m>\u001b[39m Any:\n\u001b[1;32m    178\u001b[0m     \u001b[38;5;28;01mtry\u001b[39;00m:\n\u001b[0;32m--> 179\u001b[0m         \u001b[38;5;28;01mreturn\u001b[39;00m \u001b[43mf\u001b[49m\u001b[43m(\u001b[49m\u001b[38;5;241;43m*\u001b[39;49m\u001b[43ma\u001b[49m\u001b[43m,\u001b[49m\u001b[43m \u001b[49m\u001b[38;5;241;43m*\u001b[39;49m\u001b[38;5;241;43m*\u001b[39;49m\u001b[43mkw\u001b[49m\u001b[43m)\u001b[49m\n\u001b[1;32m    180\u001b[0m     \u001b[38;5;28;01mexcept\u001b[39;00m Py4JJavaError \u001b[38;5;28;01mas\u001b[39;00m e:\n\u001b[1;32m    181\u001b[0m         converted \u001b[38;5;241m=\u001b[39m convert_exception(e\u001b[38;5;241m.\u001b[39mjava_exception)\n",
      "File \u001b[0;32m/opt/conda/envs/csgy-6513d-fall2023/lib/python3.9/site-packages/py4j/protocol.py:326\u001b[0m, in \u001b[0;36mget_return_value\u001b[0;34m(answer, gateway_client, target_id, name)\u001b[0m\n\u001b[1;32m    324\u001b[0m value \u001b[38;5;241m=\u001b[39m OUTPUT_CONVERTER[\u001b[38;5;28mtype\u001b[39m](answer[\u001b[38;5;241m2\u001b[39m:], gateway_client)\n\u001b[1;32m    325\u001b[0m \u001b[38;5;28;01mif\u001b[39;00m answer[\u001b[38;5;241m1\u001b[39m] \u001b[38;5;241m==\u001b[39m REFERENCE_TYPE:\n\u001b[0;32m--> 326\u001b[0m     \u001b[38;5;28;01mraise\u001b[39;00m Py4JJavaError(\n\u001b[1;32m    327\u001b[0m         \u001b[38;5;124m\"\u001b[39m\u001b[38;5;124mAn error occurred while calling \u001b[39m\u001b[38;5;132;01m{0}\u001b[39;00m\u001b[38;5;132;01m{1}\u001b[39;00m\u001b[38;5;132;01m{2}\u001b[39;00m\u001b[38;5;124m.\u001b[39m\u001b[38;5;130;01m\\n\u001b[39;00m\u001b[38;5;124m\"\u001b[39m\u001b[38;5;241m.\u001b[39m\n\u001b[1;32m    328\u001b[0m         \u001b[38;5;28mformat\u001b[39m(target_id, \u001b[38;5;124m\"\u001b[39m\u001b[38;5;124m.\u001b[39m\u001b[38;5;124m\"\u001b[39m, name), value)\n\u001b[1;32m    329\u001b[0m \u001b[38;5;28;01melse\u001b[39;00m:\n\u001b[1;32m    330\u001b[0m     \u001b[38;5;28;01mraise\u001b[39;00m Py4JError(\n\u001b[1;32m    331\u001b[0m         \u001b[38;5;124m\"\u001b[39m\u001b[38;5;124mAn error occurred while calling \u001b[39m\u001b[38;5;132;01m{0}\u001b[39;00m\u001b[38;5;132;01m{1}\u001b[39;00m\u001b[38;5;132;01m{2}\u001b[39;00m\u001b[38;5;124m. Trace:\u001b[39m\u001b[38;5;130;01m\\n\u001b[39;00m\u001b[38;5;132;01m{3}\u001b[39;00m\u001b[38;5;130;01m\\n\u001b[39;00m\u001b[38;5;124m\"\u001b[39m\u001b[38;5;241m.\u001b[39m\n\u001b[1;32m    332\u001b[0m         \u001b[38;5;28mformat\u001b[39m(target_id, \u001b[38;5;124m\"\u001b[39m\u001b[38;5;124m.\u001b[39m\u001b[38;5;124m\"\u001b[39m, name, value))\n",
      "\u001b[0;31mPy4JJavaError\u001b[0m: An error occurred while calling o198.csv.\n: org.apache.spark.SparkException: Job aborted due to stage failure: Task 0 in stage 137.0 failed 1 times, most recent failure: Lost task 0.0 in stage 137.0 (TID 207) (jupyter-sv2564 executor driver): org.apache.spark.SparkException: [TASK_WRITE_FAILED] Task failed while writing rows to file:/home/jovyan/PreprocessedDataset.\n\tat org.apache.spark.sql.errors.QueryExecutionErrors$.taskFailedWhileWritingRowsError(QueryExecutionErrors.scala:774)\n\tat org.apache.spark.sql.execution.datasources.FileFormatWriter$.executeTask(FileFormatWriter.scala:420)\n\tat org.apache.spark.sql.execution.datasources.WriteFilesExec.$anonfun$doExecuteWrite$1(WriteFiles.scala:100)\n\tat org.apache.spark.rdd.RDD.$anonfun$mapPartitionsInternal$2(RDD.scala:890)\n\tat org.apache.spark.rdd.RDD.$anonfun$mapPartitionsInternal$2$adapted(RDD.scala:890)\n\tat org.apache.spark.rdd.MapPartitionsRDD.compute(MapPartitionsRDD.scala:52)\n\tat org.apache.spark.rdd.RDD.computeOrReadCheckpoint(RDD.scala:364)\n\tat org.apache.spark.rdd.RDD.iterator(RDD.scala:328)\n\tat org.apache.spark.scheduler.ResultTask.runTask(ResultTask.scala:93)\n\tat org.apache.spark.TaskContext.runTaskWithListeners(TaskContext.scala:161)\n\tat org.apache.spark.scheduler.Task.run(Task.scala:141)\n\tat org.apache.spark.executor.Executor$TaskRunner.$anonfun$run$4(Executor.scala:620)\n\tat org.apache.spark.util.SparkErrorUtils.tryWithSafeFinally(SparkErrorUtils.scala:64)\n\tat org.apache.spark.util.SparkErrorUtils.tryWithSafeFinally$(SparkErrorUtils.scala:61)\n\tat org.apache.spark.util.Utils$.tryWithSafeFinally(Utils.scala:94)\n\tat org.apache.spark.executor.Executor$TaskRunner.run(Executor.scala:623)\n\tat java.base/java.util.concurrent.ThreadPoolExecutor.runWorker(ThreadPoolExecutor.java:1144)\n\tat java.base/java.util.concurrent.ThreadPoolExecutor$Worker.run(ThreadPoolExecutor.java:642)\n\tat java.base/java.lang.Thread.run(Thread.java:1583)\nCaused by: com.univocity.parsers.common.TextWritingException: Error writing row.\nInternal state when error was thrown: recordCount=318733, recordData=[2022-09-05T23:42:00.000-04:00, 33739, 80C9DEA10, 34523, 80CDD5980, 60148.43, Mexican Peso, 3007.4215000000004, 60148.43, Mexican Peso, 3007.4215000000004, Credit Card, 0]\n\tat com.univocity.parsers.common.AbstractWriter.throwExceptionAndClose(AbstractWriter.java:1055)\n\tat com.univocity.parsers.common.AbstractWriter.writeRow(AbstractWriter.java:834)\n\tat org.apache.spark.sql.catalyst.csv.UnivocityGenerator.write(UnivocityGenerator.scala:117)\n\tat org.apache.spark.sql.execution.datasources.csv.CsvOutputWriter.write(CsvOutputWriter.scala:46)\n\tat org.apache.spark.sql.execution.datasources.SingleDirectoryDataWriter.write(FileFormatDataWriter.scala:175)\n\tat org.apache.spark.sql.execution.datasources.FileFormatDataWriter.writeWithMetrics(FileFormatDataWriter.scala:85)\n\tat org.apache.spark.sql.execution.datasources.FileFormatDataWriter.writeWithIterator(FileFormatDataWriter.scala:92)\n\tat org.apache.spark.sql.execution.datasources.FileFormatWriter$.$anonfun$executeTask$1(FileFormatWriter.scala:403)\n\tat org.apache.spark.util.Utils$.tryWithSafeFinallyAndFailureCallbacks(Utils.scala:1397)\n\tat org.apache.spark.sql.execution.datasources.FileFormatWriter$.executeTask(FileFormatWriter.scala:410)\n\t... 17 more\nCaused by: java.lang.IllegalStateException: Error closing the output.\n\tat com.univocity.parsers.common.AbstractWriter.close(AbstractWriter.java:1000)\n\tat com.univocity.parsers.common.AbstractWriter.throwExceptionAndClose(AbstractWriter.java:1042)\n\tat com.univocity.parsers.common.AbstractWriter.internalWriteRow(AbstractWriter.java:949)\n\tat com.univocity.parsers.common.AbstractWriter.writeRow(AbstractWriter.java:832)\n\t... 25 more\nCaused by: org.apache.hadoop.fs.FSError: java.io.IOException: No space left on device\n\tat org.apache.hadoop.fs.RawLocalFileSystem$LocalFSFileOutputStream.write(RawLocalFileSystem.java:349)\n\tat java.base/java.io.BufferedOutputStream.flushBuffer(BufferedOutputStream.java:125)\n\tat java.base/java.io.BufferedOutputStream.implWrite(BufferedOutputStream.java:222)\n\tat java.base/java.io.BufferedOutputStream.write(BufferedOutputStream.java:206)\n\tat org.apache.hadoop.fs.FSDataOutputStream$PositionCache.write(FSDataOutputStream.java:62)\n\tat java.base/java.io.DataOutputStream.write(DataOutputStream.java:115)\n\tat org.apache.hadoop.fs.ChecksumFileSystem$ChecksumFSOutputSummer.writeChunk(ChecksumFileSystem.java:459)\n\tat org.apache.hadoop.fs.FSOutputSummer.writeChecksumChunks(FSOutputSummer.java:218)\n\tat org.apache.hadoop.fs.FSOutputSummer.flushBuffer(FSOutputSummer.java:165)\n\tat org.apache.hadoop.fs.FSOutputSummer.flushBuffer(FSOutputSummer.java:146)\n\tat org.apache.hadoop.fs.ChecksumFileSystem$ChecksumFSOutputSummer.close(ChecksumFileSystem.java:447)\n\tat org.apache.hadoop.fs.FSDataOutputStream$PositionCache.close(FSDataOutputStream.java:77)\n\tat org.apache.hadoop.fs.FSDataOutputStream.close(FSDataOutputStream.java:106)\n\tat java.base/sun.nio.cs.StreamEncoder.implClose(StreamEncoder.java:439)\n\tat java.base/sun.nio.cs.StreamEncoder.lockedClose(StreamEncoder.java:237)\n\tat java.base/sun.nio.cs.StreamEncoder.close(StreamEncoder.java:222)\n\tat java.base/java.io.OutputStreamWriter.close(OutputStreamWriter.java:266)\n\tat com.univocity.parsers.common.AbstractWriter.close(AbstractWriter.java:996)\n\t... 28 more\nCaused by: java.io.IOException: No space left on device\n\tat java.base/java.io.FileOutputStream.writeBytes(Native Method)\n\tat java.base/java.io.FileOutputStream.write(FileOutputStream.java:367)\n\tat org.apache.hadoop.fs.RawLocalFileSystem$LocalFSFileOutputStream.write(RawLocalFileSystem.java:345)\n\t... 45 more\n\nDriver stacktrace:\n\tat org.apache.spark.scheduler.DAGScheduler.failJobAndIndependentStages(DAGScheduler.scala:2844)\n\tat org.apache.spark.scheduler.DAGScheduler.$anonfun$abortStage$2(DAGScheduler.scala:2780)\n\tat org.apache.spark.scheduler.DAGScheduler.$anonfun$abortStage$2$adapted(DAGScheduler.scala:2779)\n\tat scala.collection.mutable.ResizableArray.foreach(ResizableArray.scala:62)\n\tat scala.collection.mutable.ResizableArray.foreach$(ResizableArray.scala:55)\n\tat scala.collection.mutable.ArrayBuffer.foreach(ArrayBuffer.scala:49)\n\tat org.apache.spark.scheduler.DAGScheduler.abortStage(DAGScheduler.scala:2779)\n\tat org.apache.spark.scheduler.DAGScheduler.$anonfun$handleTaskSetFailed$1(DAGScheduler.scala:1242)\n\tat org.apache.spark.scheduler.DAGScheduler.$anonfun$handleTaskSetFailed$1$adapted(DAGScheduler.scala:1242)\n\tat scala.Option.foreach(Option.scala:407)\n\tat org.apache.spark.scheduler.DAGScheduler.handleTaskSetFailed(DAGScheduler.scala:1242)\n\tat org.apache.spark.scheduler.DAGSchedulerEventProcessLoop.doOnReceive(DAGScheduler.scala:3048)\n\tat org.apache.spark.scheduler.DAGSchedulerEventProcessLoop.onReceive(DAGScheduler.scala:2982)\n\tat org.apache.spark.scheduler.DAGSchedulerEventProcessLoop.onReceive(DAGScheduler.scala:2971)\n\tat org.apache.spark.util.EventLoop$$anon$1.run(EventLoop.scala:49)\n\tat org.apache.spark.scheduler.DAGScheduler.runJob(DAGScheduler.scala:984)\n\tat org.apache.spark.SparkContext.runJob(SparkContext.scala:2398)\n\tat org.apache.spark.sql.execution.datasources.FileFormatWriter$.$anonfun$executeWrite$4(FileFormatWriter.scala:307)\n\tat org.apache.spark.sql.execution.datasources.FileFormatWriter$.writeAndCommit(FileFormatWriter.scala:271)\n\tat org.apache.spark.sql.execution.datasources.FileFormatWriter$.executeWrite(FileFormatWriter.scala:304)\n\tat org.apache.spark.sql.execution.datasources.FileFormatWriter$.write(FileFormatWriter.scala:190)\n\tat org.apache.spark.sql.execution.datasources.InsertIntoHadoopFsRelationCommand.run(InsertIntoHadoopFsRelationCommand.scala:190)\n\tat org.apache.spark.sql.execution.command.DataWritingCommandExec.sideEffectResult$lzycompute(commands.scala:113)\n\tat org.apache.spark.sql.execution.command.DataWritingCommandExec.sideEffectResult(commands.scala:111)\n\tat org.apache.spark.sql.execution.command.DataWritingCommandExec.executeCollect(commands.scala:125)\n\tat org.apache.spark.sql.execution.adaptive.AdaptiveSparkPlanExec.$anonfun$executeCollect$1(AdaptiveSparkPlanExec.scala:374)\n\tat org.apache.spark.sql.execution.adaptive.AdaptiveSparkPlanExec.withFinalPlanUpdate(AdaptiveSparkPlanExec.scala:402)\n\tat org.apache.spark.sql.execution.adaptive.AdaptiveSparkPlanExec.executeCollect(AdaptiveSparkPlanExec.scala:374)\n\tat org.apache.spark.sql.execution.QueryExecution$$anonfun$eagerlyExecuteCommands$1.$anonfun$applyOrElse$1(QueryExecution.scala:107)\n\tat org.apache.spark.sql.execution.SQLExecution$.$anonfun$withNewExecutionId$6(SQLExecution.scala:125)\n\tat org.apache.spark.sql.execution.SQLExecution$.withSQLConfPropagated(SQLExecution.scala:201)\n\tat org.apache.spark.sql.execution.SQLExecution$.$anonfun$withNewExecutionId$1(SQLExecution.scala:108)\n\tat org.apache.spark.sql.SparkSession.withActive(SparkSession.scala:900)\n\tat org.apache.spark.sql.execution.SQLExecution$.withNewExecutionId(SQLExecution.scala:66)\n\tat org.apache.spark.sql.execution.QueryExecution$$anonfun$eagerlyExecuteCommands$1.applyOrElse(QueryExecution.scala:107)\n\tat org.apache.spark.sql.execution.QueryExecution$$anonfun$eagerlyExecuteCommands$1.applyOrElse(QueryExecution.scala:98)\n\tat org.apache.spark.sql.catalyst.trees.TreeNode.$anonfun$transformDownWithPruning$1(TreeNode.scala:461)\n\tat org.apache.spark.sql.catalyst.trees.CurrentOrigin$.withOrigin(origin.scala:76)\n\tat org.apache.spark.sql.catalyst.trees.TreeNode.transformDownWithPruning(TreeNode.scala:461)\n\tat org.apache.spark.sql.catalyst.plans.logical.LogicalPlan.org$apache$spark$sql$catalyst$plans$logical$AnalysisHelper$$super$transformDownWithPruning(LogicalPlan.scala:32)\n\tat org.apache.spark.sql.catalyst.plans.logical.AnalysisHelper.transformDownWithPruning(AnalysisHelper.scala:267)\n\tat org.apache.spark.sql.catalyst.plans.logical.AnalysisHelper.transformDownWithPruning$(AnalysisHelper.scala:263)\n\tat org.apache.spark.sql.catalyst.plans.logical.LogicalPlan.transformDownWithPruning(LogicalPlan.scala:32)\n\tat org.apache.spark.sql.catalyst.plans.logical.LogicalPlan.transformDownWithPruning(LogicalPlan.scala:32)\n\tat org.apache.spark.sql.catalyst.trees.TreeNode.transformDown(TreeNode.scala:437)\n\tat org.apache.spark.sql.execution.QueryExecution.eagerlyExecuteCommands(QueryExecution.scala:98)\n\tat org.apache.spark.sql.execution.QueryExecution.commandExecuted$lzycompute(QueryExecution.scala:85)\n\tat org.apache.spark.sql.execution.QueryExecution.commandExecuted(QueryExecution.scala:83)\n\tat org.apache.spark.sql.execution.QueryExecution.assertCommandExecuted(QueryExecution.scala:142)\n\tat org.apache.spark.sql.DataFrameWriter.runCommand(DataFrameWriter.scala:859)\n\tat org.apache.spark.sql.DataFrameWriter.saveToV1Source(DataFrameWriter.scala:388)\n\tat org.apache.spark.sql.DataFrameWriter.saveInternal(DataFrameWriter.scala:361)\n\tat org.apache.spark.sql.DataFrameWriter.save(DataFrameWriter.scala:240)\n\tat org.apache.spark.sql.DataFrameWriter.csv(DataFrameWriter.scala:850)\n\tat java.base/jdk.internal.reflect.NativeMethodAccessorImpl.invoke0(Native Method)\n\tat java.base/jdk.internal.reflect.NativeMethodAccessorImpl.invoke(NativeMethodAccessorImpl.java:75)\n\tat java.base/jdk.internal.reflect.DelegatingMethodAccessorImpl.invoke(DelegatingMethodAccessorImpl.java:52)\n\tat java.base/java.lang.reflect.Method.invoke(Method.java:580)\n\tat py4j.reflection.MethodInvoker.invoke(MethodInvoker.java:244)\n\tat py4j.reflection.ReflectionEngine.invoke(ReflectionEngine.java:374)\n\tat py4j.Gateway.invoke(Gateway.java:282)\n\tat py4j.commands.AbstractCommand.invokeMethod(AbstractCommand.java:132)\n\tat py4j.commands.CallCommand.execute(CallCommand.java:79)\n\tat py4j.ClientServerConnection.waitForCommands(ClientServerConnection.java:182)\n\tat py4j.ClientServerConnection.run(ClientServerConnection.java:106)\n\tat java.base/java.lang.Thread.run(Thread.java:1583)\nCaused by: org.apache.spark.SparkException: [TASK_WRITE_FAILED] Task failed while writing rows to file:/home/jovyan/PreprocessedDataset.\n\tat org.apache.spark.sql.errors.QueryExecutionErrors$.taskFailedWhileWritingRowsError(QueryExecutionErrors.scala:774)\n\tat org.apache.spark.sql.execution.datasources.FileFormatWriter$.executeTask(FileFormatWriter.scala:420)\n\tat org.apache.spark.sql.execution.datasources.WriteFilesExec.$anonfun$doExecuteWrite$1(WriteFiles.scala:100)\n\tat org.apache.spark.rdd.RDD.$anonfun$mapPartitionsInternal$2(RDD.scala:890)\n\tat org.apache.spark.rdd.RDD.$anonfun$mapPartitionsInternal$2$adapted(RDD.scala:890)\n\tat org.apache.spark.rdd.MapPartitionsRDD.compute(MapPartitionsRDD.scala:52)\n\tat org.apache.spark.rdd.RDD.computeOrReadCheckpoint(RDD.scala:364)\n\tat org.apache.spark.rdd.RDD.iterator(RDD.scala:328)\n\tat org.apache.spark.scheduler.ResultTask.runTask(ResultTask.scala:93)\n\tat org.apache.spark.TaskContext.runTaskWithListeners(TaskContext.scala:161)\n\tat org.apache.spark.scheduler.Task.run(Task.scala:141)\n\tat org.apache.spark.executor.Executor$TaskRunner.$anonfun$run$4(Executor.scala:620)\n\tat org.apache.spark.util.SparkErrorUtils.tryWithSafeFinally(SparkErrorUtils.scala:64)\n\tat org.apache.spark.util.SparkErrorUtils.tryWithSafeFinally$(SparkErrorUtils.scala:61)\n\tat org.apache.spark.util.Utils$.tryWithSafeFinally(Utils.scala:94)\n\tat org.apache.spark.executor.Executor$TaskRunner.run(Executor.scala:623)\n\tat java.base/java.util.concurrent.ThreadPoolExecutor.runWorker(ThreadPoolExecutor.java:1144)\n\tat java.base/java.util.concurrent.ThreadPoolExecutor$Worker.run(ThreadPoolExecutor.java:642)\n\t... 1 more\nCaused by: com.univocity.parsers.common.TextWritingException: Error writing row.\nInternal state when error was thrown: recordCount=318733, recordData=[2022-09-05T23:42:00.000-04:00, 33739, 80C9DEA10, 34523, 80CDD5980, 60148.43, Mexican Peso, 3007.4215000000004, 60148.43, Mexican Peso, 3007.4215000000004, Credit Card, 0]\n\tat com.univocity.parsers.common.AbstractWriter.throwExceptionAndClose(AbstractWriter.java:1055)\n\tat com.univocity.parsers.common.AbstractWriter.writeRow(AbstractWriter.java:834)\n\tat org.apache.spark.sql.catalyst.csv.UnivocityGenerator.write(UnivocityGenerator.scala:117)\n\tat org.apache.spark.sql.execution.datasources.csv.CsvOutputWriter.write(CsvOutputWriter.scala:46)\n\tat org.apache.spark.sql.execution.datasources.SingleDirectoryDataWriter.write(FileFormatDataWriter.scala:175)\n\tat org.apache.spark.sql.execution.datasources.FileFormatDataWriter.writeWithMetrics(FileFormatDataWriter.scala:85)\n\tat org.apache.spark.sql.execution.datasources.FileFormatDataWriter.writeWithIterator(FileFormatDataWriter.scala:92)\n\tat org.apache.spark.sql.execution.datasources.FileFormatWriter$.$anonfun$executeTask$1(FileFormatWriter.scala:403)\n\tat org.apache.spark.util.Utils$.tryWithSafeFinallyAndFailureCallbacks(Utils.scala:1397)\n\tat org.apache.spark.sql.execution.datasources.FileFormatWriter$.executeTask(FileFormatWriter.scala:410)\n\t... 17 more\nCaused by: java.lang.IllegalStateException: Error closing the output.\n\tat com.univocity.parsers.common.AbstractWriter.close(AbstractWriter.java:1000)\n\tat com.univocity.parsers.common.AbstractWriter.throwExceptionAndClose(AbstractWriter.java:1042)\n\tat com.univocity.parsers.common.AbstractWriter.internalWriteRow(AbstractWriter.java:949)\n\tat com.univocity.parsers.common.AbstractWriter.writeRow(AbstractWriter.java:832)\n\t... 25 more\nCaused by: org.apache.hadoop.fs.FSError: java.io.IOException: No space left on device\n\tat org.apache.hadoop.fs.RawLocalFileSystem$LocalFSFileOutputStream.write(RawLocalFileSystem.java:349)\n\tat java.base/java.io.BufferedOutputStream.flushBuffer(BufferedOutputStream.java:125)\n\tat java.base/java.io.BufferedOutputStream.implWrite(BufferedOutputStream.java:222)\n\tat java.base/java.io.BufferedOutputStream.write(BufferedOutputStream.java:206)\n\tat org.apache.hadoop.fs.FSDataOutputStream$PositionCache.write(FSDataOutputStream.java:62)\n\tat java.base/java.io.DataOutputStream.write(DataOutputStream.java:115)\n\tat org.apache.hadoop.fs.ChecksumFileSystem$ChecksumFSOutputSummer.writeChunk(ChecksumFileSystem.java:459)\n\tat org.apache.hadoop.fs.FSOutputSummer.writeChecksumChunks(FSOutputSummer.java:218)\n\tat org.apache.hadoop.fs.FSOutputSummer.flushBuffer(FSOutputSummer.java:165)\n\tat org.apache.hadoop.fs.FSOutputSummer.flushBuffer(FSOutputSummer.java:146)\n\tat org.apache.hadoop.fs.ChecksumFileSystem$ChecksumFSOutputSummer.close(ChecksumFileSystem.java:447)\n\tat org.apache.hadoop.fs.FSDataOutputStream$PositionCache.close(FSDataOutputStream.java:77)\n\tat org.apache.hadoop.fs.FSDataOutputStream.close(FSDataOutputStream.java:106)\n\tat java.base/sun.nio.cs.StreamEncoder.implClose(StreamEncoder.java:439)\n\tat java.base/sun.nio.cs.StreamEncoder.lockedClose(StreamEncoder.java:237)\n\tat java.base/sun.nio.cs.StreamEncoder.close(StreamEncoder.java:222)\n\tat java.base/java.io.OutputStreamWriter.close(OutputStreamWriter.java:266)\n\tat com.univocity.parsers.common.AbstractWriter.close(AbstractWriter.java:996)\n\t... 28 more\nCaused by: java.io.IOException: No space left on device\n\tat java.base/java.io.FileOutputStream.writeBytes(Native Method)\n\tat java.base/java.io.FileOutputStream.write(FileOutputStream.java:367)\n\tat org.apache.hadoop.fs.RawLocalFileSystem$LocalFSFileOutputStream.write(RawLocalFileSystem.java:345)\n\t... 45 more\n"
     ]
    },
    {
     "name": "stderr",
     "output_type": "stream",
     "text": [
      "----------------------------------------\n",
      "Exception occurred during processing of request from ('127.0.0.1', 41594)\n",
      "Traceback (most recent call last):\n",
      "  File \"/opt/conda/envs/csgy-6513d-fall2023/lib/python3.9/socketserver.py\", line 316, in _handle_request_noblock\n",
      "    self.process_request(request, client_address)\n",
      "  File \"/opt/conda/envs/csgy-6513d-fall2023/lib/python3.9/socketserver.py\", line 347, in process_request\n",
      "    self.finish_request(request, client_address)\n",
      "  File \"/opt/conda/envs/csgy-6513d-fall2023/lib/python3.9/socketserver.py\", line 360, in finish_request\n",
      "    self.RequestHandlerClass(request, client_address, self)\n",
      "  File \"/opt/conda/envs/csgy-6513d-fall2023/lib/python3.9/socketserver.py\", line 747, in __init__\n",
      "    self.handle()\n",
      "  File \"/opt/conda/envs/csgy-6513d-fall2023/lib/python3.9/site-packages/pyspark/accumulators.py\", line 295, in handle\n",
      "    poll(accum_updates)\n",
      "  File \"/opt/conda/envs/csgy-6513d-fall2023/lib/python3.9/site-packages/pyspark/accumulators.py\", line 267, in poll\n",
      "    if self.rfile in r and func():\n",
      "  File \"/opt/conda/envs/csgy-6513d-fall2023/lib/python3.9/site-packages/pyspark/accumulators.py\", line 271, in accum_updates\n",
      "    num_updates = read_int(self.rfile)\n",
      "  File \"/opt/conda/envs/csgy-6513d-fall2023/lib/python3.9/site-packages/pyspark/serializers.py\", line 596, in read_int\n",
      "    raise EOFError\n",
      "EOFError\n",
      "----------------------------------------\n"
     ]
    }
   ],
   "source": [
    "currency_converted_df.write.csv(\"PreprocessedDataset\", header=True, mode=\"overwrite\")"
   ]
  },
  {
   "cell_type": "markdown",
   "id": "114bde41",
   "metadata": {},
   "source": [
    "### Describe the amount received and paid in USD"
   ]
  },
  {
   "cell_type": "code",
   "execution_count": 20,
   "id": "ea4f2ad6",
   "metadata": {},
   "outputs": [
    {
     "name": "stdout",
     "output_type": "stream",
     "text": [
      "Summary for column: AmountReceivedUSD\n"
     ]
    },
    {
     "name": "stderr",
     "output_type": "stream",
     "text": [
      "                                                                                \r"
     ]
    },
    {
     "name": "stdout",
     "output_type": "stream",
     "text": [
      "+-------+--------------------+\n",
      "|summary|   AmountReceivedUSD|\n",
      "+-------+--------------------+\n",
      "|  count|             5078336|\n",
      "|   mean|  339274.72974934615|\n",
      "| stddev|2.3946118925802704E7|\n",
      "|    min|              6.9E-5|\n",
      "|    max|2.864297275461585...|\n",
      "+-------+--------------------+\n",
      "\n",
      "Summary for column: AmountPaidUSD\n"
     ]
    },
    {
     "name": "stderr",
     "output_type": "stream",
     "text": [
      "[Stage 158:======================================>                  (2 + 1) / 3]\r"
     ]
    },
    {
     "name": "stdout",
     "output_type": "stream",
     "text": [
      "+-------+--------------------+\n",
      "|summary|       AmountPaidUSD|\n",
      "+-------+--------------------+\n",
      "|  count|             5078336|\n",
      "|   mean|    340290.148282013|\n",
      "| stddev| 2.402091061721995E7|\n",
      "|    min|              6.9E-5|\n",
      "|    max|2.864297275461585...|\n",
      "+-------+--------------------+\n",
      "\n"
     ]
    },
    {
     "name": "stderr",
     "output_type": "stream",
     "text": [
      "                                                                                \r"
     ]
    }
   ],
   "source": [
    "# list of column names\n",
    "columns = [\"AmountReceivedUSD\", \"AmountPaidUSD\"]\n",
    "\n",
    "# Information for each column one at a time\n",
    "for col_name in columns:\n",
    "    print(f\"Summary for column: {col_name}\")\n",
    "    currency_converted_df.describe(col_name).show()"
   ]
  },
  {
   "cell_type": "code",
   "execution_count": 21,
   "id": "b043964d",
   "metadata": {},
   "outputs": [
    {
     "name": "stderr",
     "output_type": "stream",
     "text": [
      "[Stage 180:======================================>                  (2 + 1) / 3]\r"
     ]
    },
    {
     "name": "stdout",
     "output_type": "stream",
     "text": [
      "Maximum Value of AmountPaidUSD (in millions): 28642.972754615854\n"
     ]
    },
    {
     "name": "stderr",
     "output_type": "stream",
     "text": [
      "                                                                                \r"
     ]
    }
   ],
   "source": [
    "from pyspark.sql import functions as F\n",
    "\n",
    "# Assuming currency_converted_df is your DataFrame\n",
    "# Filter out rows with extreme values (e.g., Infinity or NaN)\n",
    "filtered_df = currency_converted_df.filter(\n",
    "    ~F.col(\"AmountPaidUSD\").isin([float('inf'), float('-inf'), float('nan')])\n",
    ")\n",
    "\n",
    "# Use the agg function to calculate the maximum value directly\n",
    "max_value = filtered_df.agg(F.max(\"AmountPaidUSD\")).collect()[0][0]\n",
    "\n",
    "# Convert the maximum value to millions\n",
    "max_value_in_millions = max_value / 1_000_000\n",
    "\n",
    "print(\"Maximum Value of AmountPaidUSD (in millions):\", max_value_in_millions)\n"
   ]
  },
  {
   "cell_type": "code",
   "execution_count": 22,
   "id": "12d4ed7f",
   "metadata": {},
   "outputs": [
    {
     "name": "stderr",
     "output_type": "stream",
     "text": [
      "[Stage 224:==========================================>              (3 + 1) / 4]\r"
     ]
    },
    {
     "name": "stdout",
     "output_type": "stream",
     "text": [
      "Row with Maximum Value:\n",
      "Timestamp: 2022-09-06 23:37:00\n",
      "FromBank: 136334\n",
      "FromAccount: 80D81A180\n",
      "ToBank: 235551\n",
      "ToAccount: 80D8816E0\n",
      "AmountReceived: 149963208139.35\n",
      "ReceivingCurrency: Brazil Real\n",
      "AmountReceivedUSD: 28642972754.615852\n",
      "AmountPaid: 149963208139.35\n",
      "PaymentCurrency: Brazil Real\n",
      "AmountPaidUSD: 28642972754.615852\n",
      "PaymentFormat: ACH\n",
      "IsLaundering: 0\n"
     ]
    },
    {
     "name": "stderr",
     "output_type": "stream",
     "text": [
      "                                                                                \r"
     ]
    }
   ],
   "source": [
    "from pyspark.sql import functions as F\n",
    "\n",
    "# Assuming currency_converted_df is your DataFrame\n",
    "# Use the agg function to calculate the maximum value directly\n",
    "max_value = currency_converted_df.agg(F.max(\"AmountPaidUSD\")).collect()[0][0]\n",
    "\n",
    "# Retrieve the row with the maximum value\n",
    "row_with_max_value = currency_converted_df.filter(\n",
    "    F.col(\"AmountPaidUSD\") == max_value\n",
    ").collect()\n",
    "\n",
    "# Display the row with the maximum value\n",
    "if row_with_max_value:\n",
    "    print(\"Row with Maximum Value:\")\n",
    "    for column, value in zip(currency_converted_df.columns, row_with_max_value[0]):\n",
    "        print(f\"{column}: {value}\")\n",
    "else:\n",
    "    print(\"No row found with the maximum value.\")\n",
    "\n"
   ]
  },
  {
   "cell_type": "markdown",
   "id": "84721f4c",
   "metadata": {},
   "source": [
    "## Data Exploration"
   ]
  },
  {
   "cell_type": "markdown",
   "id": "742e607e",
   "metadata": {},
   "source": [
    "### Check IsLaundering Class Distribution"
   ]
  },
  {
   "cell_type": "code",
   "execution_count": 23,
   "id": "79f54f50",
   "metadata": {},
   "outputs": [
    {
     "name": "stderr",
     "output_type": "stream",
     "text": [
      "                                                                                \r"
     ]
    },
    {
     "name": "stdout",
     "output_type": "stream",
     "text": [
      "   IsLaundering    count\n",
      "0             1     5177\n",
      "1             0  5073159\n"
     ]
    },
    {
     "data": {
      "image/png": "[encoded data removed]",
      "text/plain": [
       "<Figure size 640x480 with 1 Axes>"
      ]
     },
     "metadata": {},
     "output_type": "display_data"
    }
   ],
   "source": [
    "# Check the distribution of the target variable (IsLaundering)\n",
    "class_distribution = df.groupBy(\"IsLaundering\").count().toPandas()\n",
    "print(class_distribution)\n",
    "\n",
    "# Visualize the class distribution\n",
    "plt.bar(class_distribution['IsLaundering'], class_distribution['count'], color=['blue', 'red'])\n",
    "plt.xlabel('IsLaundering')\n",
    "plt.ylabel('Count')\n",
    "plt.title('Class Distribution')\n",
    "plt.show()"
   ]
  },
  {
   "cell_type": "markdown",
   "id": "891045b7",
   "metadata": {},
   "source": [
    "### Correlation Analysis"
   ]
  },
  {
   "cell_type": "code",
   "execution_count": 24,
   "id": "a9120ac1",
   "metadata": {},
   "outputs": [
    {
     "name": "stderr",
     "output_type": "stream",
     "text": [
      "                                                                                \r"
     ]
    }
   ],
   "source": [
    "from pyspark.ml.feature import VectorAssembler\n",
    "\n",
    "# Assuming df is your DataFrame\n",
    "\n",
    "# Define the columns you want to include in the correlation analysis\n",
    "feature_columns = ['FromBank', 'ToBank', 'AmountReceived', 'AmountPaid', 'IsLaundering']\n",
    "\n",
    "# Create a vector assembler to combine the selected columns into a single vector column\n",
    "vector_assembler = VectorAssembler(inputCols=feature_columns, outputCol='features')\n",
    "\n",
    "# Apply the vector assembler to the DataFrame\n",
    "df_with_features = vector_assembler.transform(df)\n",
    "\n",
    "# Calculate correlation matrix\n",
    "correlation_matrix = Correlation.corr(df_with_features, 'features').head()\n",
    "correlation_array = correlation_matrix[0].toArray()"
   ]
  },
  {
   "cell_type": "code",
   "execution_count": 25,
   "id": "da2c538f",
   "metadata": {},
   "outputs": [
    {
     "data": {
      "image/png": "[encoded data removed]",
      "text/plain": [
       "<Figure size 1000x800 with 2 Axes>"
      ]
     },
     "metadata": {},
     "output_type": "display_data"
    }
   ],
   "source": [
    "# Visualize the correlation matrix\n",
    "\n",
    "import matplotlib.pyplot as plt\n",
    "import seaborn as sns\n",
    "\n",
    "# Assuming correlation_array contains the correlation matrix values\n",
    "\n",
    "# Create a DataFrame from the correlation matrix array\n",
    "correlation_df = pd.DataFrame(correlation_array, columns=feature_columns, index=feature_columns)\n",
    "\n",
    "# Plot the correlation matrix using a heatmap\n",
    "plt.figure(figsize=(10, 8))\n",
    "sns.heatmap(correlation_df, annot=True, cmap='coolwarm', fmt='.2f', linewidths=0.5)\n",
    "plt.title('Correlation Matrix')\n",
    "plt.show()\n"
   ]
  },
  {
   "cell_type": "markdown",
   "id": "a7b6f25c",
   "metadata": {},
   "source": [
    "## Feature Engineering"
   ]
  },
  {
   "cell_type": "markdown",
   "id": "1df54a61",
   "metadata": {},
   "source": [
    "### Feature Transformation"
   ]
  },
  {
   "cell_type": "code",
   "execution_count": 26,
   "id": "840f80d5",
   "metadata": {},
   "outputs": [
    {
     "name": "stderr",
     "output_type": "stream",
     "text": [
      "                                                                                \r"
     ]
    }
   ],
   "source": [
    "# Use StringIndexer to convert categorical columns to numerical\n",
    "indexers = [StringIndexer(inputCol=col, outputCol=col+\"_index\").fit(df) for col in [\"ReceivingCurrency\", \"PaymentCurrency\", \"PaymentFormat\"]]\n",
    "pipeline = Pipeline(stages=indexers)\n",
    "df_transformed = pipeline.fit(df).transform(df)\n",
    "\n",
    "# Drop original categorical columns\n",
    "df_transformed = df_transformed.drop(\"FromAccount\", \"ToAccount\", \"ReceivingCurrency\", \"PaymentCurrency\", \"PaymentFormat\")"
   ]
  },
  {
   "cell_type": "markdown",
   "id": "4ed3c1d1",
   "metadata": {},
   "source": [
    "### Create Features Vector"
   ]
  },
  {
   "cell_type": "code",
   "execution_count": 27,
   "id": "058428bb",
   "metadata": {},
   "outputs": [],
   "source": [
    "from pyspark.ml.feature import VectorAssembler\n",
    "\n",
    "# Define feature columns\n",
    "feature_columns = df_transformed.columns[3:-1]  # Exclude Timestamp and IsLaundering\n",
    "\n",
    "# Create a vector assembler\n",
    "assembler = VectorAssembler(inputCols=feature_columns, outputCol=\"features\")\n",
    "\n",
    "# Transform the DataFrame\n",
    "df_assembled = assembler.transform(df_transformed)"
   ]
  },
  {
   "cell_type": "code",
   "execution_count": 28,
   "id": "89f6e39d",
   "metadata": {},
   "outputs": [
    {
     "data": {
      "text/plain": [
       "['AmountReceived',\n",
       " 'AmountPaid',\n",
       " 'IsLaundering',\n",
       " 'ReceivingCurrency_index',\n",
       " 'PaymentCurrency_index']"
      ]
     },
     "execution_count": 28,
     "metadata": {},
     "output_type": "execute_result"
    }
   ],
   "source": [
    "#df_transformed.drop('FromBank','ToBank')\n",
    "feature_columns"
   ]
  },
  {
   "cell_type": "markdown",
   "id": "7f12521f",
   "metadata": {},
   "source": [
    "## Model Training"
   ]
  },
  {
   "cell_type": "markdown",
   "id": "d799e98f",
   "metadata": {},
   "source": [
    "### Split Data into Training and Testing Sets"
   ]
  },
  {
   "cell_type": "code",
   "execution_count": 29,
   "id": "f9f02e30",
   "metadata": {},
   "outputs": [],
   "source": [
    "# Split the data into training and testing sets\n",
    "(training_data, testing_data) = df_assembled.randomSplit([0.75, 0.25], seed=42)"
   ]
  },
  {
   "cell_type": "markdown",
   "id": "645b1ccf",
   "metadata": {},
   "source": [
    "### Train a Random Forest Classifier"
   ]
  },
  {
   "cell_type": "code",
   "execution_count": 30,
   "id": "2d8ae9f2",
   "metadata": {},
   "outputs": [
    {
     "name": "stderr",
     "output_type": "stream",
     "text": [
      "                                                                                \r"
     ]
    },
    {
     "name": "stdout",
     "output_type": "stream",
     "text": [
      "Area under ROC curve: 1.0\n"
     ]
    }
   ],
   "source": [
    "from pyspark.ml.classification import RandomForestClassifier\n",
    "from pyspark.ml.evaluation import BinaryClassificationEvaluator\n",
    "\n",
    "# Initialize the RandomForestClassifier\n",
    "rf = RandomForestClassifier(labelCol=\"IsLaundering\", featuresCol=\"features\", numTrees=100)\n",
    "\n",
    "# Train the model\n",
    "model = rf.fit(training_data)\n",
    "\n",
    "# Make predictions on the testing set\n",
    "predictions = model.transform(testing_data)\n",
    "\n",
    "# Evaluate the model\n",
    "evaluator = BinaryClassificationEvaluator(labelCol=\"IsLaundering\")\n",
    "area_under_roc = evaluator.evaluate(predictions)\n",
    "print(f\"Area under ROC curve: {area_under_roc}\")"
   ]
  },
  {
   "cell_type": "markdown",
   "id": "c04e0ecd",
   "metadata": {},
   "source": [
    "## Model Evaluation and Interpretation"
   ]
  },
  {
   "cell_type": "markdown",
   "id": "5191de59",
   "metadata": {},
   "source": [
    "### Confusion Matrix"
   ]
  },
  {
   "cell_type": "code",
   "execution_count": 31,
   "id": "c016dce2",
   "metadata": {},
   "outputs": [
    {
     "name": "stderr",
     "output_type": "stream",
     "text": [
      "                                                                                \r"
     ]
    },
    {
     "name": "stdout",
     "output_type": "stream",
     "text": [
      "Confusion Matrix:\n",
      "[[1269029       0]\n",
      " [      0    1302]]\n"
     ]
    }
   ],
   "source": [
    "from sklearn.metrics import confusion_matrix\n",
    "\n",
    "# Convert predictions to Pandas DataFrame for sklearn confusion matrix\n",
    "predictions_pd = predictions.select(\"IsLaundering\", \"prediction\").toPandas()\n",
    "conf_matrix = confusion_matrix(predictions_pd[\"IsLaundering\"], predictions_pd[\"prediction\"])\n",
    "\n",
    "print(\"Confusion Matrix:\")\n",
    "print(conf_matrix)\n"
   ]
  },
  {
   "cell_type": "code",
   "execution_count": 32,
   "id": "380f7016",
   "metadata": {},
   "outputs": [
    {
     "data": {
      "image/png": "[encoded data removed]",
      "text/plain": [
       "<Figure size 800x600 with 1 Axes>"
      ]
     },
     "metadata": {},
     "output_type": "display_data"
    }
   ],
   "source": [
    "import seaborn as sns\n",
    "import matplotlib.pyplot as plt\n",
    "from sklearn.metrics import confusion_matrix\n",
    "\n",
    "# Assuming you have already calculated the confusion matrix\n",
    "conf_matrix = confusion_matrix(predictions_pd[\"IsLaundering\"], predictions_pd[\"prediction\"])\n",
    "\n",
    "# Plot the confusion matrix\n",
    "plt.figure(figsize=(8, 6))\n",
    "sns.heatmap(conf_matrix, annot=True, fmt=\"d\", cmap=\"Blues\", cbar=False)\n",
    "plt.title(\"Confusion Matrix\")\n",
    "plt.xlabel(\"Predicted Label\")\n",
    "plt.ylabel(\"True Label\")\n",
    "plt.show()"
   ]
  },
  {
   "cell_type": "markdown",
   "id": "5be0e028",
   "metadata": {},
   "source": [
    "### Feature Importance"
   ]
  },
  {
   "cell_type": "code",
   "execution_count": 33,
   "id": "85ad2ad3",
   "metadata": {},
   "outputs": [
    {
     "data": {
      "image/png": "[encoded data removed]",
      "text/plain": [
       "<Figure size 640x480 with 1 Axes>"
      ]
     },
     "metadata": {},
     "output_type": "display_data"
    }
   ],
   "source": [
    "# Extract feature importances from the trained model\n",
    "feature_importances = model.featureImportances.toArray()\n",
    "\n",
    "# Create a Pandas DataFrame for better visualization\n",
    "feature_importance_df = pd.DataFrame({\"Feature\": feature_columns, \"Importance\": feature_importances})\n",
    "feature_importance_df = feature_importance_df.sort_values(by=\"Importance\", ascending=False)\n",
    "\n",
    "# Plot feature importances\n",
    "plt.barh(feature_importance_df[\"Feature\"], feature_importance_df[\"Importance\"], color='green')\n",
    "plt.xlabel('Importance')\n",
    "plt.ylabel('Feature')\n",
    "plt.title('Feature Importance')\n",
    "plt.show()\n"
   ]
  },
  {
   "cell_type": "markdown",
   "id": "bc75785f",
   "metadata": {},
   "source": [
    "## Temporal Analysis"
   ]
  },
  {
   "cell_type": "markdown",
   "id": "b78c632b",
   "metadata": {},
   "source": [
    "### Extract Temporal Features"
   ]
  },
  {
   "cell_type": "code",
   "execution_count": 34,
   "id": "5b267e08",
   "metadata": {},
   "outputs": [],
   "source": [
    "# Extract temporal features from the timestamp column\n",
    "df_temporal = df_assembled.withColumn(\"HourOfDay\", hour(\"Timestamp\"))\n",
    "df_temporal = df_temporal.withColumn(\"DayOfWeek\", dayofweek(\"Timestamp\"))\n",
    "df_temporal = df_temporal.withColumn(\"DayOfMonth\", dayofmonth(\"Timestamp\"))\n",
    "df_temporal = df_temporal.withColumn(\"Month\", month(\"Timestamp\"))\n",
    "df_temporal = df_temporal.withColumn(\"Year\", year(\"Timestamp\"))"
   ]
  },
  {
   "cell_type": "markdown",
   "id": "54d0af4a",
   "metadata": {},
   "source": [
    "### Explore Temporal Patterns"
   ]
  },
  {
   "cell_type": "code",
   "execution_count": 35,
   "id": "4b1f795d",
   "metadata": {
    "scrolled": true
   },
   "outputs": [
    {
     "name": "stderr",
     "output_type": "stream",
     "text": [
      "                                                                                \r"
     ]
    },
    {
     "data": {
      "image/png": "[encoded data removed]",
      "text/plain": [
       "<Figure size 1200x1000 with 3 Axes>"
      ]
     },
     "metadata": {},
     "output_type": "display_data"
    }
   ],
   "source": [
    "# Aggregate counts over different temporal features\n",
    "hourly_counts = df_temporal.groupBy(\"HourOfDay\").count().toPandas()\n",
    "daily_counts = df_temporal.groupBy(\"DayOfWeek\").count().toPandas()\n",
    "monthly_counts = df_temporal.groupBy(\"Month\").count().toPandas()\n",
    "\n",
    "# Visualize temporal patterns\n",
    "fig, axes = plt.subplots(3, 1, figsize=(12, 10))\n",
    "\n",
    "axes[0].bar(hourly_counts[\"HourOfDay\"], hourly_counts[\"count\"], color='purple')\n",
    "axes[0].set_xlabel('Hour of Day')\n",
    "axes[0].set_ylabel('Count')\n",
    "axes[0].set_title('Hourly Transaction Counts')\n",
    "\n",
    "axes[1].bar(daily_counts[\"DayOfWeek\"], daily_counts[\"count\"], color='orange')\n",
    "axes[1].set_xlabel('Day of Week')\n",
    "axes[1].set_ylabel('Count')\n",
    "axes[1].set_title('Daily Transaction Counts')\n",
    "\n",
    "axes[2].bar(monthly_counts[\"Month\"], monthly_counts[\"count\"], color='green')\n",
    "axes[2].set_xlabel('Month')\n",
    "axes[2].set_ylabel('Count')\n",
    "axes[2].set_title('Monthly Transaction Counts')\n",
    "\n",
    "plt.tight_layout()\n",
    "plt.show()\n"
   ]
  },
  {
   "cell_type": "markdown",
   "id": "1d44b69f",
   "metadata": {},
   "source": [
    "### Time Series Visualization"
   ]
  },
  {
   "cell_type": "code",
   "execution_count": 37,
   "id": "267daf1d",
   "metadata": {},
   "outputs": [
    {
     "name": "stderr",
     "output_type": "stream",
     "text": [
      "                                                                                \r"
     ]
    },
    {
     "data": {
      "image/png": "[encoded data removed]",
      "text/plain": [
       "<Figure size 1400x600 with 1 Axes>"
      ]
     },
     "metadata": {},
     "output_type": "display_data"
    }
   ],
   "source": [
    "# Convert to Pandas DataFrame for plotting\n",
    "time_series_pd = time_series_data.toPandas()\n",
    "\n",
    "# Plot time series data\n",
    "plt.figure(figsize=(14, 6))\n",
    "plt.plot(time_series_pd[\"Timestamp\"], time_series_pd[\"LaunderingCount\"], label='Laundering Count', color='red')\n",
    "plt.xlabel('Timestamp')\n",
    "plt.ylabel('Laundering Count')\n",
    "plt.title('Time Series Analysis')\n",
    "plt.legend()\n",
    "plt.show()"
   ]
  },
  {
   "cell_type": "markdown",
   "id": "a9e528f9",
   "metadata": {},
   "source": [
    "### Prepare Time Series Data"
   ]
  },
  {
   "cell_type": "code",
   "execution_count": 36,
   "id": "eea29cc3",
   "metadata": {},
   "outputs": [],
   "source": [
    "# Extract relevant columns for time series analysis\n",
    "df_time_series = df_temporal.select(\"Timestamp\", \"IsLaundering\")\n",
    "\n",
    "# Group by timestamp and count the number of transactions\n",
    "time_series_data = df_time_series.groupBy(\"Timestamp\").agg(F.sum(\"IsLaundering\").alias(\"LaunderingCount\")).orderBy(\"Timestamp\")"
   ]
  },
  {
   "cell_type": "markdown",
   "id": "a7f58a6c",
   "metadata": {},
   "source": [
    "### CrossValidator for hyperparameter tuning of a Gradient Boosted Trees model and visualizing the results in the context of the original fraud detection code:"
   ]
  },
  {
   "cell_type": "code",
   "execution_count": 38,
   "id": "9f898a72",
   "metadata": {},
   "outputs": [],
   "source": [
    "(train_df, test_df) = df_assembled.randomSplit([0.8, 0.2])"
   ]
  },
  {
   "cell_type": "code",
   "execution_count": 41,
   "id": "4c2d0834",
   "metadata": {},
   "outputs": [],
   "source": [
    "from pyspark.ml import Pipeline\n",
    "from pyspark.ml.classification import GBTClassifier\n",
    "from pyspark.ml.tuning import ParamGridBuilder\n",
    "\n",
    "gbt = GBTClassifier(labelCol=\"IsLaundering\") \n",
    "\n",
    "paramGrid = ParamGridBuilder().addGrid(gbt.maxIter, [10, 50, 100]).addGrid(gbt.maxDepth, [2, 4, 6]).build()"
   ]
  },
  {
   "cell_type": "code",
   "execution_count": 42,
   "id": "94b4dd3f",
   "metadata": {},
   "outputs": [],
   "source": [
    "from pyspark.ml.tuning import CrossValidator\n",
    "crossval = CrossValidator(estimator=gbt,\n",
    "                          estimatorParamMaps=paramGrid, \n",
    "                          numFolds=5)"
   ]
  },
  {
   "cell_type": "code",
   "execution_count": null,
   "id": "d07c0081",
   "metadata": {},
   "outputs": [
    {
     "name": "stderr",
     "output_type": "stream",
     "text": [
      "[Stage 1679:>                                                       (0 + 2) / 5]\r"
     ]
    }
   ],
   "source": [
    "from pyspark.ml.evaluation import MulticlassClassificationEvaluator\n",
    "\n",
    "evaluator = MulticlassClassificationEvaluator(metricName=\"accuracy\", labelCol=\"IsLaundering\")\n",
    "\n",
    "crossval = CrossValidator(estimator=gbt, \n",
    "                          estimatorParamMaps=paramGrid,  \n",
    "                          evaluator=evaluator,\n",
    "                          numFolds=5)\n",
    "\n",
    "cvModel = crossval.fit(train_df)\n",
    "bestModel = cvModel.bestModel"
   ]
  },
  {
   "cell_type": "code",
   "execution_count": null,
   "id": "b4d920b3",
   "metadata": {},
   "outputs": [],
   "source": [
    "print(bestModel)"
   ]
  },
  {
   "cell_type": "code",
   "execution_count": null,
   "id": "ec35a600",
   "metadata": {},
   "outputs": [],
   "source": [
    "# Save model\n",
    "with open('xgb_model.pkl', 'wb') as file:  \n",
    "    pickle.dump(model, file)"
   ]
  },
  {
   "cell_type": "code",
   "execution_count": null,
   "id": "a22cee17",
   "metadata": {},
   "outputs": [],
   "source": [
    "# Make predictions on test data\n",
    "predictions = bestModel.transform(test_df)\n",
    "\n",
    "# Import evaluation metrics\n",
    "from pyspark.ml.evaluation import BinaryClassificationEvaluator, MulticlassClassificationEvaluator\n",
    "\n",
    "# Accuracy\n",
    "acc_evaluator = MulticlassClassificationEvaluator()\n",
    "accuracy = acc_evaluator.evaluate(predictions)\n",
    "print(\"Accuracy:\", accuracy)\n",
    "\n",
    "# AUC \n",
    "auc_evaluator = BinaryClassificationEvaluator(metricName=\"areaUnderROC\")\n",
    "auc = auc_evaluator.evaluate(predictions)\n",
    "print(\"AUC:\", auc)  \n",
    "\n",
    "# F1 Score\n",
    "f1_evaluator = MulticlassClassificationEvaluator(metricName=\"f1\")\n",
    "f1 = f1_evaluator.evaluate(predictions)\n",
    "print(\"F1 Score:\", f1)\n",
    "\n",
    "# Confusion matrix\n",
    "y_true = predictions.select(\"IsLaundering\").collect()\n",
    "y_pred = predictions.select(\"prediction\").collect()\n",
    "\n",
    "from sklearn.metrics import confusion_matrix\n",
    "cm = confusion_matrix(y_true, y_pred) \n",
    "print(\"Confusion Matrix: \\n\", cm)"
   ]
  },
  {
   "cell_type": "code",
   "execution_count": null,
   "id": "cb6ad7c8",
   "metadata": {},
   "outputs": [],
   "source": [
    "import matplotlib.pyplot as plt\n",
    "\n",
    "df = cvModel.avgMetrics\n",
    "\n",
    "plt.plot(df['maxDepth'], df['accuracy'], marker='o')\n",
    "plt.xlabel('maxDepth')\n",
    "plt.ylabel('Accuracy')\n",
    "plt.title('GBT Classifier Tuning')\n",
    "\n",
    "plt.show()"
   ]
  },
  {
   "cell_type": "code",
   "execution_count": null,
   "id": "41432bff",
   "metadata": {},
   "outputs": [],
   "source": [
    "# Load model\n",
    "with open('xgb_model.pkl', 'rb') as file:\n",
    "    model = pickle.load(file)\n",
    "    \n",
    "# Make prediction    \n",
    "y_pred = model.predict(X_test)"
   ]
  },
  {
   "cell_type": "code",
   "execution_count": null,
   "id": "afc8f160",
   "metadata": {},
   "outputs": [],
   "source": []
  }
 ],
 "metadata": {
  "kernelspec": {
   "display_name": "Python [conda env:csgy-6513d-fall2023]",
   "language": "python",
   "name": "conda-env-csgy-6513d-fall2023-py"
  },
  "language_info": {
   "codemirror_mode": {
    "name": "ipython",
    "version": 3
   },
   "file_extension": ".py",
   "mimetype": "text/x-python",
   "name": "python",
   "nbconvert_exporter": "python",
   "pygments_lexer": "ipython3",
   "version": "3.9.18"
  }
 },
 "nbformat": 4,
 "nbformat_minor": 5
}
